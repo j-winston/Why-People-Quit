{
 "cells": [
  {
   "cell_type": "markdown",
   "id": "80455fe6-3113-4a4b-899a-3b844f9b72de",
   "metadata": {},
   "source": [
    "## Why People Quit--An Analysis of Employee Exit Survey Data"
   ]
  },
  {
   "cell_type": "markdown",
   "id": "45f1d209-28ac-4752-ac90-3c84d116acdb",
   "metadata": {},
   "source": [
    "Using exit surveys from the [Department of Education, Training and Employment](https://en.wikipedia.org/wiki/Department_of_Education_and_Training_(Queensland) (DETE) and the Technical and Further Education institute(TAFE) in Queensland, Australia, we are looking to answer the following questions:"
   ]
  },
  {
   "cell_type": "markdown",
   "id": "87868e17-f466-45a5-92ca-7e40e5f82954",
   "metadata": {},
   "source": [
    "- Are employees who only worked for the institutes for a short period of time resigning due to some kind of dissatisfaction? What about employees who have been there longer?\n",
    "\n",
    "- Are younger employees resigning due to some kind of dissatisfaction? What about older employees?"
   ]
  },
  {
   "cell_type": "markdown",
   "id": "f8fee536-671d-487b-9233-0404b4f14111",
   "metadata": {},
   "source": [
    "### Summary \n",
    "\n",
    "We found that employees who are over the age of 51 are more likely to resign due to dissatisfactions and employees under the age of 25 are the least likely. Those with more than seven years in the company are more likely to resign out of dissatisfaction and those with under 3 years are the least likely. \n"
   ]
  },
  {
   "cell_type": "markdown",
   "id": "b1eb7aca-685d-4c05-a7dd-6da7728b812d",
   "metadata": {},
   "source": [
    "### Reading in Our Data "
   ]
  },
  {
   "cell_type": "code",
   "execution_count": 1,
   "id": "06d9da28-7f77-41c0-9e6e-ae9a54502a9d",
   "metadata": {},
   "outputs": [],
   "source": [
    "import pandas as pd\n",
    "import numpy as np\n",
    "import matplotlib.pyplot as plt"
   ]
  },
  {
   "cell_type": "code",
   "execution_count": 2,
   "id": "22e755ae-5395-4a3f-8d86-89117360c8d7",
   "metadata": {},
   "outputs": [],
   "source": [
    "dete_survey = pd.read_csv('dete_survey.csv')\n",
    "tafe_survey = pd.read_csv('tafe_survey.csv')"
   ]
  },
  {
   "cell_type": "markdown",
   "id": "6cb44228-6f55-4d54-ba89-1e98d14b2d4f",
   "metadata": {},
   "source": [
    "#### Preliminary Exploration"
   ]
  },
  {
   "cell_type": "code",
   "execution_count": 3,
   "id": "6fbd69db-f892-45da-b094-8586841191f9",
   "metadata": {},
   "outputs": [
    {
     "data": {
      "text/html": [
       "<div>\n",
       "<style scoped>\n",
       "    .dataframe tbody tr th:only-of-type {\n",
       "        vertical-align: middle;\n",
       "    }\n",
       "\n",
       "    .dataframe tbody tr th {\n",
       "        vertical-align: top;\n",
       "    }\n",
       "\n",
       "    .dataframe thead th {\n",
       "        text-align: right;\n",
       "    }\n",
       "</style>\n",
       "<table border=\"1\" class=\"dataframe\">\n",
       "  <thead>\n",
       "    <tr style=\"text-align: right;\">\n",
       "      <th></th>\n",
       "      <th>ID</th>\n",
       "      <th>SeparationType</th>\n",
       "      <th>Cease Date</th>\n",
       "      <th>DETE Start Date</th>\n",
       "      <th>Role Start Date</th>\n",
       "      <th>Position</th>\n",
       "      <th>Classification</th>\n",
       "      <th>Region</th>\n",
       "      <th>Business Unit</th>\n",
       "      <th>Employment Status</th>\n",
       "      <th>...</th>\n",
       "      <th>Kept informed</th>\n",
       "      <th>Wellness programs</th>\n",
       "      <th>Health &amp; Safety</th>\n",
       "      <th>Gender</th>\n",
       "      <th>Age</th>\n",
       "      <th>Aboriginal</th>\n",
       "      <th>Torres Strait</th>\n",
       "      <th>South Sea</th>\n",
       "      <th>Disability</th>\n",
       "      <th>NESB</th>\n",
       "    </tr>\n",
       "  </thead>\n",
       "  <tbody>\n",
       "    <tr>\n",
       "      <th>0</th>\n",
       "      <td>1</td>\n",
       "      <td>Ill Health Retirement</td>\n",
       "      <td>08/2012</td>\n",
       "      <td>1984</td>\n",
       "      <td>2004</td>\n",
       "      <td>Public Servant</td>\n",
       "      <td>A01-A04</td>\n",
       "      <td>Central Office</td>\n",
       "      <td>Corporate Strategy and Peformance</td>\n",
       "      <td>Permanent Full-time</td>\n",
       "      <td>...</td>\n",
       "      <td>N</td>\n",
       "      <td>N</td>\n",
       "      <td>N</td>\n",
       "      <td>Male</td>\n",
       "      <td>56-60</td>\n",
       "      <td>NaN</td>\n",
       "      <td>NaN</td>\n",
       "      <td>NaN</td>\n",
       "      <td>NaN</td>\n",
       "      <td>Yes</td>\n",
       "    </tr>\n",
       "    <tr>\n",
       "      <th>1</th>\n",
       "      <td>2</td>\n",
       "      <td>Voluntary Early Retirement (VER)</td>\n",
       "      <td>08/2012</td>\n",
       "      <td>Not Stated</td>\n",
       "      <td>Not Stated</td>\n",
       "      <td>Public Servant</td>\n",
       "      <td>AO5-AO7</td>\n",
       "      <td>Central Office</td>\n",
       "      <td>Corporate Strategy and Peformance</td>\n",
       "      <td>Permanent Full-time</td>\n",
       "      <td>...</td>\n",
       "      <td>N</td>\n",
       "      <td>N</td>\n",
       "      <td>N</td>\n",
       "      <td>Male</td>\n",
       "      <td>56-60</td>\n",
       "      <td>NaN</td>\n",
       "      <td>NaN</td>\n",
       "      <td>NaN</td>\n",
       "      <td>NaN</td>\n",
       "      <td>NaN</td>\n",
       "    </tr>\n",
       "    <tr>\n",
       "      <th>2</th>\n",
       "      <td>3</td>\n",
       "      <td>Voluntary Early Retirement (VER)</td>\n",
       "      <td>05/2012</td>\n",
       "      <td>2011</td>\n",
       "      <td>2011</td>\n",
       "      <td>Schools Officer</td>\n",
       "      <td>NaN</td>\n",
       "      <td>Central Office</td>\n",
       "      <td>Education Queensland</td>\n",
       "      <td>Permanent Full-time</td>\n",
       "      <td>...</td>\n",
       "      <td>N</td>\n",
       "      <td>N</td>\n",
       "      <td>N</td>\n",
       "      <td>Male</td>\n",
       "      <td>61 or older</td>\n",
       "      <td>NaN</td>\n",
       "      <td>NaN</td>\n",
       "      <td>NaN</td>\n",
       "      <td>NaN</td>\n",
       "      <td>NaN</td>\n",
       "    </tr>\n",
       "  </tbody>\n",
       "</table>\n",
       "<p>3 rows × 56 columns</p>\n",
       "</div>"
      ],
      "text/plain": [
       "   ID                    SeparationType Cease Date DETE Start Date  \\\n",
       "0   1             Ill Health Retirement    08/2012            1984   \n",
       "1   2  Voluntary Early Retirement (VER)    08/2012      Not Stated   \n",
       "2   3  Voluntary Early Retirement (VER)    05/2012            2011   \n",
       "\n",
       "  Role Start Date         Position Classification          Region  \\\n",
       "0            2004   Public Servant        A01-A04  Central Office   \n",
       "1      Not Stated   Public Servant        AO5-AO7  Central Office   \n",
       "2            2011  Schools Officer            NaN  Central Office   \n",
       "\n",
       "                       Business Unit    Employment Status  ...  Kept informed  \\\n",
       "0  Corporate Strategy and Peformance  Permanent Full-time  ...              N   \n",
       "1  Corporate Strategy and Peformance  Permanent Full-time  ...              N   \n",
       "2               Education Queensland  Permanent Full-time  ...              N   \n",
       "\n",
       "   Wellness programs  Health & Safety  Gender          Age  Aboriginal  \\\n",
       "0                  N                N    Male        56-60         NaN   \n",
       "1                  N                N    Male        56-60         NaN   \n",
       "2                  N                N    Male  61 or older         NaN   \n",
       "\n",
       "   Torres Strait  South Sea  Disability  NESB  \n",
       "0            NaN        NaN         NaN   Yes  \n",
       "1            NaN        NaN         NaN   NaN  \n",
       "2            NaN        NaN         NaN   NaN  \n",
       "\n",
       "[3 rows x 56 columns]"
      ]
     },
     "execution_count": 3,
     "metadata": {},
     "output_type": "execute_result"
    }
   ],
   "source": [
    "dete_survey.head(3)"
   ]
  },
  {
   "cell_type": "code",
   "execution_count": 4,
   "id": "ed02cf89-c8de-4315-9a54-a4a7cc9f7630",
   "metadata": {},
   "outputs": [
    {
     "data": {
      "text/html": [
       "<div>\n",
       "<style scoped>\n",
       "    .dataframe tbody tr th:only-of-type {\n",
       "        vertical-align: middle;\n",
       "    }\n",
       "\n",
       "    .dataframe tbody tr th {\n",
       "        vertical-align: top;\n",
       "    }\n",
       "\n",
       "    .dataframe thead th {\n",
       "        text-align: right;\n",
       "    }\n",
       "</style>\n",
       "<table border=\"1\" class=\"dataframe\">\n",
       "  <thead>\n",
       "    <tr style=\"text-align: right;\">\n",
       "      <th></th>\n",
       "      <th>Record ID</th>\n",
       "      <th>Institute</th>\n",
       "      <th>WorkArea</th>\n",
       "      <th>CESSATION YEAR</th>\n",
       "      <th>Reason for ceasing employment</th>\n",
       "      <th>Contributing Factors. Career Move - Public Sector</th>\n",
       "      <th>Contributing Factors. Career Move - Private Sector</th>\n",
       "      <th>Contributing Factors. Career Move - Self-employment</th>\n",
       "      <th>Contributing Factors. Ill Health</th>\n",
       "      <th>Contributing Factors. Maternity/Family</th>\n",
       "      <th>...</th>\n",
       "      <th>Workplace. Topic:Does your workplace promote a work culture free from all forms of unlawful discrimination?</th>\n",
       "      <th>Workplace. Topic:Does your workplace promote and practice the principles of employment equity?</th>\n",
       "      <th>Workplace. Topic:Does your workplace value the diversity of its employees?</th>\n",
       "      <th>Workplace. Topic:Would you recommend the Institute as an employer to others?</th>\n",
       "      <th>Gender. What is your Gender?</th>\n",
       "      <th>CurrentAge. Current Age</th>\n",
       "      <th>Employment Type. Employment Type</th>\n",
       "      <th>Classification. Classification</th>\n",
       "      <th>LengthofServiceOverall. Overall Length of Service at Institute (in years)</th>\n",
       "      <th>LengthofServiceCurrent. Length of Service at current workplace (in years)</th>\n",
       "    </tr>\n",
       "  </thead>\n",
       "  <tbody>\n",
       "    <tr>\n",
       "      <th>0</th>\n",
       "      <td>6.341330e+17</td>\n",
       "      <td>Southern Queensland Institute of TAFE</td>\n",
       "      <td>Non-Delivery (corporate)</td>\n",
       "      <td>2010.0</td>\n",
       "      <td>Contract Expired</td>\n",
       "      <td>NaN</td>\n",
       "      <td>NaN</td>\n",
       "      <td>NaN</td>\n",
       "      <td>NaN</td>\n",
       "      <td>NaN</td>\n",
       "      <td>...</td>\n",
       "      <td>Yes</td>\n",
       "      <td>Yes</td>\n",
       "      <td>Yes</td>\n",
       "      <td>Yes</td>\n",
       "      <td>Female</td>\n",
       "      <td>26  30</td>\n",
       "      <td>Temporary Full-time</td>\n",
       "      <td>Administration (AO)</td>\n",
       "      <td>1-2</td>\n",
       "      <td>1-2</td>\n",
       "    </tr>\n",
       "    <tr>\n",
       "      <th>1</th>\n",
       "      <td>6.341337e+17</td>\n",
       "      <td>Mount Isa Institute of TAFE</td>\n",
       "      <td>Non-Delivery (corporate)</td>\n",
       "      <td>2010.0</td>\n",
       "      <td>Retirement</td>\n",
       "      <td>-</td>\n",
       "      <td>-</td>\n",
       "      <td>-</td>\n",
       "      <td>-</td>\n",
       "      <td>-</td>\n",
       "      <td>...</td>\n",
       "      <td>Yes</td>\n",
       "      <td>Yes</td>\n",
       "      <td>Yes</td>\n",
       "      <td>Yes</td>\n",
       "      <td>NaN</td>\n",
       "      <td>NaN</td>\n",
       "      <td>NaN</td>\n",
       "      <td>NaN</td>\n",
       "      <td>NaN</td>\n",
       "      <td>NaN</td>\n",
       "    </tr>\n",
       "    <tr>\n",
       "      <th>2</th>\n",
       "      <td>6.341388e+17</td>\n",
       "      <td>Mount Isa Institute of TAFE</td>\n",
       "      <td>Delivery (teaching)</td>\n",
       "      <td>2010.0</td>\n",
       "      <td>Retirement</td>\n",
       "      <td>-</td>\n",
       "      <td>-</td>\n",
       "      <td>-</td>\n",
       "      <td>-</td>\n",
       "      <td>-</td>\n",
       "      <td>...</td>\n",
       "      <td>Yes</td>\n",
       "      <td>Yes</td>\n",
       "      <td>Yes</td>\n",
       "      <td>Yes</td>\n",
       "      <td>NaN</td>\n",
       "      <td>NaN</td>\n",
       "      <td>NaN</td>\n",
       "      <td>NaN</td>\n",
       "      <td>NaN</td>\n",
       "      <td>NaN</td>\n",
       "    </tr>\n",
       "  </tbody>\n",
       "</table>\n",
       "<p>3 rows × 72 columns</p>\n",
       "</div>"
      ],
      "text/plain": [
       "      Record ID                              Institute  \\\n",
       "0  6.341330e+17  Southern Queensland Institute of TAFE   \n",
       "1  6.341337e+17            Mount Isa Institute of TAFE   \n",
       "2  6.341388e+17            Mount Isa Institute of TAFE   \n",
       "\n",
       "                   WorkArea  CESSATION YEAR Reason for ceasing employment  \\\n",
       "0  Non-Delivery (corporate)          2010.0              Contract Expired   \n",
       "1  Non-Delivery (corporate)          2010.0                    Retirement   \n",
       "2       Delivery (teaching)          2010.0                    Retirement   \n",
       "\n",
       "  Contributing Factors. Career Move - Public Sector   \\\n",
       "0                                                NaN   \n",
       "1                                                  -   \n",
       "2                                                  -   \n",
       "\n",
       "  Contributing Factors. Career Move - Private Sector   \\\n",
       "0                                                NaN    \n",
       "1                                                  -    \n",
       "2                                                  -    \n",
       "\n",
       "  Contributing Factors. Career Move - Self-employment  \\\n",
       "0                                                NaN    \n",
       "1                                                  -    \n",
       "2                                                  -    \n",
       "\n",
       "  Contributing Factors. Ill Health Contributing Factors. Maternity/Family  \\\n",
       "0                              NaN                                    NaN   \n",
       "1                                -                                      -   \n",
       "2                                -                                      -   \n",
       "\n",
       "   ...  \\\n",
       "0  ...   \n",
       "1  ...   \n",
       "2  ...   \n",
       "\n",
       "  Workplace. Topic:Does your workplace promote a work culture free from all forms of unlawful discrimination?  \\\n",
       "0                                                Yes                                                            \n",
       "1                                                Yes                                                            \n",
       "2                                                Yes                                                            \n",
       "\n",
       "  Workplace. Topic:Does your workplace promote and practice the principles of employment equity?  \\\n",
       "0                                                Yes                                               \n",
       "1                                                Yes                                               \n",
       "2                                                Yes                                               \n",
       "\n",
       "  Workplace. Topic:Does your workplace value the diversity of its employees?  \\\n",
       "0                                                Yes                           \n",
       "1                                                Yes                           \n",
       "2                                                Yes                           \n",
       "\n",
       "  Workplace. Topic:Would you recommend the Institute as an employer to others?  \\\n",
       "0                                                Yes                             \n",
       "1                                                Yes                             \n",
       "2                                                Yes                             \n",
       "\n",
       "  Gender. What is your Gender? CurrentAge. Current Age  \\\n",
       "0                       Female                  26  30   \n",
       "1                          NaN                     NaN   \n",
       "2                          NaN                     NaN   \n",
       "\n",
       "  Employment Type. Employment Type Classification. Classification  \\\n",
       "0              Temporary Full-time            Administration (AO)   \n",
       "1                              NaN                            NaN   \n",
       "2                              NaN                            NaN   \n",
       "\n",
       "  LengthofServiceOverall. Overall Length of Service at Institute (in years)  \\\n",
       "0                                                1-2                          \n",
       "1                                                NaN                          \n",
       "2                                                NaN                          \n",
       "\n",
       "  LengthofServiceCurrent. Length of Service at current workplace (in years)  \n",
       "0                                                1-2                         \n",
       "1                                                NaN                         \n",
       "2                                                NaN                         \n",
       "\n",
       "[3 rows x 72 columns]"
      ]
     },
     "execution_count": 4,
     "metadata": {},
     "output_type": "execute_result"
    }
   ],
   "source": [
    "tafe_survey.head(3)"
   ]
  },
  {
   "cell_type": "code",
   "execution_count": 5,
   "id": "e6de8d1d-70c5-41fc-a6e6-a88688554922",
   "metadata": {},
   "outputs": [
    {
     "name": "stdout",
     "output_type": "stream",
     "text": [
      "<class 'pandas.core.frame.DataFrame'>\n",
      "RangeIndex: 702 entries, 0 to 701\n",
      "Data columns (total 72 columns):\n",
      " #   Column                                                                                                                                                         Non-Null Count  Dtype  \n",
      "---  ------                                                                                                                                                         --------------  -----  \n",
      " 0   Record ID                                                                                                                                                      702 non-null    float64\n",
      " 1   Institute                                                                                                                                                      702 non-null    object \n",
      " 2   WorkArea                                                                                                                                                       702 non-null    object \n",
      " 3   CESSATION YEAR                                                                                                                                                 695 non-null    float64\n",
      " 4   Reason for ceasing employment                                                                                                                                  701 non-null    object \n",
      " 5   Contributing Factors. Career Move - Public Sector                                                                                                              437 non-null    object \n",
      " 6   Contributing Factors. Career Move - Private Sector                                                                                                             437 non-null    object \n",
      " 7   Contributing Factors. Career Move - Self-employment                                                                                                            437 non-null    object \n",
      " 8   Contributing Factors. Ill Health                                                                                                                               437 non-null    object \n",
      " 9   Contributing Factors. Maternity/Family                                                                                                                         437 non-null    object \n",
      " 10  Contributing Factors. Dissatisfaction                                                                                                                          437 non-null    object \n",
      " 11  Contributing Factors. Job Dissatisfaction                                                                                                                      437 non-null    object \n",
      " 12  Contributing Factors. Interpersonal Conflict                                                                                                                   437 non-null    object \n",
      " 13  Contributing Factors. Study                                                                                                                                    437 non-null    object \n",
      " 14  Contributing Factors. Travel                                                                                                                                   437 non-null    object \n",
      " 15  Contributing Factors. Other                                                                                                                                    437 non-null    object \n",
      " 16  Contributing Factors. NONE                                                                                                                                     437 non-null    object \n",
      " 17  Main Factor. Which of these was the main factor for leaving?                                                                                                   113 non-null    object \n",
      " 18  InstituteViews. Topic:1. I feel the senior leadership had a clear vision and direction                                                                         608 non-null    object \n",
      " 19  InstituteViews. Topic:2. I was given access to skills training to help me do my job better                                                                     613 non-null    object \n",
      " 20  InstituteViews. Topic:3. I was given adequate opportunities for personal development                                                                           610 non-null    object \n",
      " 21  InstituteViews. Topic:4. I was given adequate opportunities for promotion within %Institute]Q25LBL%                                                            608 non-null    object \n",
      " 22  InstituteViews. Topic:5. I felt the salary for the job was right for the responsibilities I had                                                                615 non-null    object \n",
      " 23  InstituteViews. Topic:6. The organisation recognised when staff did good work                                                                                  607 non-null    object \n",
      " 24  InstituteViews. Topic:7. Management was generally supportive of me                                                                                             614 non-null    object \n",
      " 25  InstituteViews. Topic:8. Management was generally supportive of my team                                                                                        608 non-null    object \n",
      " 26  InstituteViews. Topic:9. I was kept informed of the changes in the organisation which would affect me                                                          610 non-null    object \n",
      " 27  InstituteViews. Topic:10. Staff morale was positive within the Institute                                                                                       602 non-null    object \n",
      " 28  InstituteViews. Topic:11. If I had a workplace issue it was dealt with quickly                                                                                 601 non-null    object \n",
      " 29  InstituteViews. Topic:12. If I had a workplace issue it was dealt with efficiently                                                                             597 non-null    object \n",
      " 30  InstituteViews. Topic:13. If I had a workplace issue it was dealt with discreetly                                                                              601 non-null    object \n",
      " 31  WorkUnitViews. Topic:14. I was satisfied with the quality of the management and supervision within my work unit                                                609 non-null    object \n",
      " 32  WorkUnitViews. Topic:15. I worked well with my colleagues                                                                                                      605 non-null    object \n",
      " 33  WorkUnitViews. Topic:16. My job was challenging and interesting                                                                                                607 non-null    object \n",
      " 34  WorkUnitViews. Topic:17. I was encouraged to use my initiative in the course of my work                                                                        610 non-null    object \n",
      " 35  WorkUnitViews. Topic:18. I had sufficient contact with other people in my job                                                                                  613 non-null    object \n",
      " 36  WorkUnitViews. Topic:19. I was given adequate support and co-operation by my peers to enable me to do my job                                                   609 non-null    object \n",
      " 37  WorkUnitViews. Topic:20. I was able to use the full range of my skills in my job                                                                               609 non-null    object \n",
      " 38  WorkUnitViews. Topic:21. I was able to use the full range of my abilities in my job. ; Category:Level of Agreement; Question:YOUR VIEWS ABOUT YOUR WORK UNIT]  608 non-null    object \n",
      " 39  WorkUnitViews. Topic:22. I was able to use the full range of my knowledge in my job                                                                            608 non-null    object \n",
      " 40  WorkUnitViews. Topic:23. My job provided sufficient variety                                                                                                    611 non-null    object \n",
      " 41  WorkUnitViews. Topic:24. I was able to cope with the level of stress and pressure in my job                                                                    610 non-null    object \n",
      " 42  WorkUnitViews. Topic:25. My job allowed me to balance the demands of work and family to my satisfaction                                                        611 non-null    object \n",
      " 43  WorkUnitViews. Topic:26. My supervisor gave me adequate personal recognition and feedback on my performance                                                    606 non-null    object \n",
      " 44  WorkUnitViews. Topic:27. My working environment was satisfactory e.g. sufficient space, good lighting, suitable seating and working area                       610 non-null    object \n",
      " 45  WorkUnitViews. Topic:28. I was given the opportunity to mentor and coach others in order for me to pass on my skills and knowledge prior to my cessation date  609 non-null    object \n",
      " 46  WorkUnitViews. Topic:29. There was adequate communication between staff in my unit                                                                             603 non-null    object \n",
      " 47  WorkUnitViews. Topic:30. Staff morale was positive within my work unit                                                                                         606 non-null    object \n",
      " 48  Induction. Did you undertake Workplace Induction?                                                                                                              619 non-null    object \n",
      " 49  InductionInfo. Topic:Did you undertake a Corporate Induction?                                                                                                  432 non-null    object \n",
      " 50  InductionInfo. Topic:Did you undertake a Institute Induction?                                                                                                  483 non-null    object \n",
      " 51  InductionInfo. Topic: Did you undertake Team Induction?                                                                                                        440 non-null    object \n",
      " 52  InductionInfo. Face to Face Topic:Did you undertake a Corporate Induction; Category:How it was conducted?                                                      555 non-null    object \n",
      " 53  InductionInfo. On-line Topic:Did you undertake a Corporate Induction; Category:How it was conducted?                                                           555 non-null    object \n",
      " 54  InductionInfo. Induction Manual Topic:Did you undertake a Corporate Induction?                                                                                 555 non-null    object \n",
      " 55  InductionInfo. Face to Face Topic:Did you undertake a Institute Induction?                                                                                     530 non-null    object \n",
      " 56  InductionInfo. On-line Topic:Did you undertake a Institute Induction?                                                                                          555 non-null    object \n",
      " 57  InductionInfo. Induction Manual Topic:Did you undertake a Institute Induction?                                                                                 553 non-null    object \n",
      " 58  InductionInfo. Face to Face Topic: Did you undertake Team Induction; Category?                                                                                 555 non-null    object \n",
      " 59  InductionInfo. On-line Topic: Did you undertake Team Induction?process you undertook and how it was conducted.]                                                555 non-null    object \n",
      " 60  InductionInfo. Induction Manual Topic: Did you undertake Team Induction?                                                                                       555 non-null    object \n",
      " 61  Workplace. Topic:Did you and your Manager develop a Performance and Professional Development Plan (PPDP)?                                                      608 non-null    object \n",
      " 62  Workplace. Topic:Does your workplace promote a work culture free from all forms of unlawful discrimination?                                                    594 non-null    object \n",
      " 63  Workplace. Topic:Does your workplace promote and practice the principles of employment equity?                                                                 587 non-null    object \n",
      " 64  Workplace. Topic:Does your workplace value the diversity of its employees?                                                                                     586 non-null    object \n",
      " 65  Workplace. Topic:Would you recommend the Institute as an employer to others?                                                                                   581 non-null    object \n",
      " 66  Gender. What is your Gender?                                                                                                                                   596 non-null    object \n",
      " 67  CurrentAge. Current Age                                                                                                                                        596 non-null    object \n",
      " 68  Employment Type. Employment Type                                                                                                                               596 non-null    object \n",
      " 69  Classification. Classification                                                                                                                                 596 non-null    object \n",
      " 70  LengthofServiceOverall. Overall Length of Service at Institute (in years)                                                                                      596 non-null    object \n",
      " 71  LengthofServiceCurrent. Length of Service at current workplace (in years)                                                                                      596 non-null    object \n",
      "dtypes: float64(2), object(70)\n",
      "memory usage: 395.0+ KB\n"
     ]
    }
   ],
   "source": [
    "tafe_survey.info()"
   ]
  },
  {
   "cell_type": "code",
   "execution_count": 6,
   "id": "51682b8a-eda1-41a6-9825-9d3eb01992bd",
   "metadata": {},
   "outputs": [
    {
     "name": "stdout",
     "output_type": "stream",
     "text": [
      "<class 'pandas.core.frame.DataFrame'>\n",
      "RangeIndex: 822 entries, 0 to 821\n",
      "Data columns (total 56 columns):\n",
      " #   Column                               Non-Null Count  Dtype \n",
      "---  ------                               --------------  ----- \n",
      " 0   ID                                   822 non-null    int64 \n",
      " 1   SeparationType                       822 non-null    object\n",
      " 2   Cease Date                           822 non-null    object\n",
      " 3   DETE Start Date                      822 non-null    object\n",
      " 4   Role Start Date                      822 non-null    object\n",
      " 5   Position                             817 non-null    object\n",
      " 6   Classification                       455 non-null    object\n",
      " 7   Region                               822 non-null    object\n",
      " 8   Business Unit                        126 non-null    object\n",
      " 9   Employment Status                    817 non-null    object\n",
      " 10  Career move to public sector         822 non-null    bool  \n",
      " 11  Career move to private sector        822 non-null    bool  \n",
      " 12  Interpersonal conflicts              822 non-null    bool  \n",
      " 13  Job dissatisfaction                  822 non-null    bool  \n",
      " 14  Dissatisfaction with the department  822 non-null    bool  \n",
      " 15  Physical work environment            822 non-null    bool  \n",
      " 16  Lack of recognition                  822 non-null    bool  \n",
      " 17  Lack of job security                 822 non-null    bool  \n",
      " 18  Work location                        822 non-null    bool  \n",
      " 19  Employment conditions                822 non-null    bool  \n",
      " 20  Maternity/family                     822 non-null    bool  \n",
      " 21  Relocation                           822 non-null    bool  \n",
      " 22  Study/Travel                         822 non-null    bool  \n",
      " 23  Ill Health                           822 non-null    bool  \n",
      " 24  Traumatic incident                   822 non-null    bool  \n",
      " 25  Work life balance                    822 non-null    bool  \n",
      " 26  Workload                             822 non-null    bool  \n",
      " 27  None of the above                    822 non-null    bool  \n",
      " 28  Professional Development             808 non-null    object\n",
      " 29  Opportunities for promotion          735 non-null    object\n",
      " 30  Staff morale                         816 non-null    object\n",
      " 31  Workplace issue                      788 non-null    object\n",
      " 32  Physical environment                 817 non-null    object\n",
      " 33  Worklife balance                     815 non-null    object\n",
      " 34  Stress and pressure support          810 non-null    object\n",
      " 35  Performance of supervisor            813 non-null    object\n",
      " 36  Peer support                         812 non-null    object\n",
      " 37  Initiative                           813 non-null    object\n",
      " 38  Skills                               811 non-null    object\n",
      " 39  Coach                                767 non-null    object\n",
      " 40  Career Aspirations                   746 non-null    object\n",
      " 41  Feedback                             792 non-null    object\n",
      " 42  Further PD                           768 non-null    object\n",
      " 43  Communication                        814 non-null    object\n",
      " 44  My say                               812 non-null    object\n",
      " 45  Information                          816 non-null    object\n",
      " 46  Kept informed                        813 non-null    object\n",
      " 47  Wellness programs                    766 non-null    object\n",
      " 48  Health & Safety                      793 non-null    object\n",
      " 49  Gender                               798 non-null    object\n",
      " 50  Age                                  811 non-null    object\n",
      " 51  Aboriginal                           16 non-null     object\n",
      " 52  Torres Strait                        3 non-null      object\n",
      " 53  South Sea                            7 non-null      object\n",
      " 54  Disability                           23 non-null     object\n",
      " 55  NESB                                 32 non-null     object\n",
      "dtypes: bool(18), int64(1), object(37)\n",
      "memory usage: 258.6+ KB\n"
     ]
    }
   ],
   "source": [
    "dete_survey.info()"
   ]
  },
  {
   "cell_type": "code",
   "execution_count": 7,
   "id": "158ad11b-f5b2-4449-8419-4f39866e95b8",
   "metadata": {},
   "outputs": [
    {
     "data": {
      "text/plain": [
       "0      1-2\n",
       "1      NaN\n",
       "2      NaN\n",
       "3      NaN\n",
       "4      3-4\n",
       "      ... \n",
       "697    1-2\n",
       "698    NaN\n",
       "699    5-6\n",
       "700    1-2\n",
       "701    3-4\n",
       "Name: LengthofServiceOverall. Overall Length of Service at Institute (in years), Length: 702, dtype: object"
      ]
     },
     "execution_count": 7,
     "metadata": {},
     "output_type": "execute_result"
    }
   ],
   "source": [
    "tafe_survey['LengthofServiceOverall. Overall Length of Service at Institute (in years)']"
   ]
  },
  {
   "cell_type": "code",
   "execution_count": 8,
   "id": "76582f5e-ef4a-414e-a134-88e067c15c57",
   "metadata": {},
   "outputs": [
    {
     "data": {
      "text/plain": [
       "Less than 1 year      147\n",
       "1-2                   102\n",
       "3-4                    96\n",
       "11-20                  89\n",
       "More than 20 years     71\n",
       "5-6                    48\n",
       "7-10                   43\n",
       "Name: LengthofServiceOverall. Overall Length of Service at Institute (in years), dtype: int64"
      ]
     },
     "execution_count": 8,
     "metadata": {},
     "output_type": "execute_result"
    }
   ],
   "source": [
    "tafe_survey['LengthofServiceOverall. Overall Length of Service at Institute (in years)'].value_counts()"
   ]
  },
  {
   "cell_type": "code",
   "execution_count": 9,
   "id": "042925a9-1e4e-44d3-aef2-de39ece5a59c",
   "metadata": {},
   "outputs": [
    {
     "data": {
      "text/plain": [
       "Resignation                 340\n",
       "Contract Expired            127\n",
       "Retrenchment/ Redundancy    104\n",
       "Retirement                   82\n",
       "Transfer                     25\n",
       "Termination                  23\n",
       "Name: Reason for ceasing employment, dtype: int64"
      ]
     },
     "execution_count": 9,
     "metadata": {},
     "output_type": "execute_result"
    }
   ],
   "source": [
    "tafe_survey['Reason for ceasing employment'].value_counts()"
   ]
  },
  {
   "cell_type": "code",
   "execution_count": 10,
   "id": "8eaa86e9-6bce-4c6f-8fca-21b147ce57ce",
   "metadata": {},
   "outputs": [
    {
     "data": {
      "text/plain": [
       "Contributing Factors. Dissatisfaction        437\n",
       "Contributing Factors. Job Dissatisfaction    437\n",
       "dtype: int64"
      ]
     },
     "execution_count": 10,
     "metadata": {},
     "output_type": "execute_result"
    }
   ],
   "source": [
    "tafe_survey[['Contributing Factors. Dissatisfaction','Contributing Factors. Job Dissatisfaction']].notnull().sum()"
   ]
  },
  {
   "cell_type": "markdown",
   "id": "7b92e6fc-14fa-446d-b3e1-81f92544f8c0",
   "metadata": {},
   "source": [
    "### Initial Observations"
   ]
  },
  {
   "cell_type": "markdown",
   "id": "86d18b56-484e-452d-b6b7-c83a55b4f1c3",
   "metadata": {},
   "source": [
    "Each of our datasets have well over 50 columns, the majority of which are not germane to our analysis. Keeping in mind our initial aim, we are mainly interested in: length of employment time, dissatisfaction, and age as it relates to both of these factors. "
   ]
  },
  {
   "cell_type": "markdown",
   "id": "7b581483-bd1b-4953-acd0-12cddee3208f",
   "metadata": {},
   "source": [
    "#### Three main issues\n",
    "- The `dete_survey` dataframe contains `Not Stated` values that are not represented as NaN-this needs to be read in as NaN.\n",
    "- Both contain many columns that are not needed for our analysis--we will eliminate irrelevant columns\n",
    "- In both surveys there are multiple columns that indicate resignation due to dissatisfaction, this needs to be handled."
   ]
  },
  {
   "cell_type": "markdown",
   "id": "6c232368-3b93-4022-a76e-d9aafae8632f",
   "metadata": {},
   "source": [
    "Let's start with the first issue: read in our data set once more, this time with `Not Stated` values being read in as `NaN`."
   ]
  },
  {
   "cell_type": "code",
   "execution_count": 11,
   "id": "7d7b998b-609e-4645-b729-19584310b07e",
   "metadata": {},
   "outputs": [],
   "source": [
    "# read in our data once more to change 'Not Stated' to `NaN`\n",
    "tafe_survey = pd.read_csv('tafe_survey.csv', na_values='Not Stated')\n",
    "dete_survey = pd.read_csv('dete_survey.csv', na_values='Not Stated')"
   ]
  },
  {
   "cell_type": "code",
   "execution_count": 12,
   "id": "b6e05dd3-9dde-469c-96a5-85bf2b084b65",
   "metadata": {},
   "outputs": [
    {
     "data": {
      "text/html": [
       "<div>\n",
       "<style scoped>\n",
       "    .dataframe tbody tr th:only-of-type {\n",
       "        vertical-align: middle;\n",
       "    }\n",
       "\n",
       "    .dataframe tbody tr th {\n",
       "        vertical-align: top;\n",
       "    }\n",
       "\n",
       "    .dataframe thead th {\n",
       "        text-align: right;\n",
       "    }\n",
       "</style>\n",
       "<table border=\"1\" class=\"dataframe\">\n",
       "  <thead>\n",
       "    <tr style=\"text-align: right;\">\n",
       "      <th></th>\n",
       "      <th>Record ID</th>\n",
       "      <th>Institute</th>\n",
       "      <th>WorkArea</th>\n",
       "      <th>CESSATION YEAR</th>\n",
       "      <th>Reason for ceasing employment</th>\n",
       "      <th>Contributing Factors. Career Move - Public Sector</th>\n",
       "      <th>Contributing Factors. Career Move - Private Sector</th>\n",
       "      <th>Contributing Factors. Career Move - Self-employment</th>\n",
       "      <th>Contributing Factors. Ill Health</th>\n",
       "      <th>Contributing Factors. Maternity/Family</th>\n",
       "      <th>...</th>\n",
       "      <th>Workplace. Topic:Does your workplace promote a work culture free from all forms of unlawful discrimination?</th>\n",
       "      <th>Workplace. Topic:Does your workplace promote and practice the principles of employment equity?</th>\n",
       "      <th>Workplace. Topic:Does your workplace value the diversity of its employees?</th>\n",
       "      <th>Workplace. Topic:Would you recommend the Institute as an employer to others?</th>\n",
       "      <th>Gender. What is your Gender?</th>\n",
       "      <th>CurrentAge. Current Age</th>\n",
       "      <th>Employment Type. Employment Type</th>\n",
       "      <th>Classification. Classification</th>\n",
       "      <th>LengthofServiceOverall. Overall Length of Service at Institute (in years)</th>\n",
       "      <th>LengthofServiceCurrent. Length of Service at current workplace (in years)</th>\n",
       "    </tr>\n",
       "  </thead>\n",
       "  <tbody>\n",
       "    <tr>\n",
       "      <th>0</th>\n",
       "      <td>6.341330e+17</td>\n",
       "      <td>Southern Queensland Institute of TAFE</td>\n",
       "      <td>Non-Delivery (corporate)</td>\n",
       "      <td>2010.0</td>\n",
       "      <td>Contract Expired</td>\n",
       "      <td>NaN</td>\n",
       "      <td>NaN</td>\n",
       "      <td>NaN</td>\n",
       "      <td>NaN</td>\n",
       "      <td>NaN</td>\n",
       "      <td>...</td>\n",
       "      <td>Yes</td>\n",
       "      <td>Yes</td>\n",
       "      <td>Yes</td>\n",
       "      <td>Yes</td>\n",
       "      <td>Female</td>\n",
       "      <td>26  30</td>\n",
       "      <td>Temporary Full-time</td>\n",
       "      <td>Administration (AO)</td>\n",
       "      <td>1-2</td>\n",
       "      <td>1-2</td>\n",
       "    </tr>\n",
       "    <tr>\n",
       "      <th>1</th>\n",
       "      <td>6.341337e+17</td>\n",
       "      <td>Mount Isa Institute of TAFE</td>\n",
       "      <td>Non-Delivery (corporate)</td>\n",
       "      <td>2010.0</td>\n",
       "      <td>Retirement</td>\n",
       "      <td>-</td>\n",
       "      <td>-</td>\n",
       "      <td>-</td>\n",
       "      <td>-</td>\n",
       "      <td>-</td>\n",
       "      <td>...</td>\n",
       "      <td>Yes</td>\n",
       "      <td>Yes</td>\n",
       "      <td>Yes</td>\n",
       "      <td>Yes</td>\n",
       "      <td>NaN</td>\n",
       "      <td>NaN</td>\n",
       "      <td>NaN</td>\n",
       "      <td>NaN</td>\n",
       "      <td>NaN</td>\n",
       "      <td>NaN</td>\n",
       "    </tr>\n",
       "    <tr>\n",
       "      <th>2</th>\n",
       "      <td>6.341388e+17</td>\n",
       "      <td>Mount Isa Institute of TAFE</td>\n",
       "      <td>Delivery (teaching)</td>\n",
       "      <td>2010.0</td>\n",
       "      <td>Retirement</td>\n",
       "      <td>-</td>\n",
       "      <td>-</td>\n",
       "      <td>-</td>\n",
       "      <td>-</td>\n",
       "      <td>-</td>\n",
       "      <td>...</td>\n",
       "      <td>Yes</td>\n",
       "      <td>Yes</td>\n",
       "      <td>Yes</td>\n",
       "      <td>Yes</td>\n",
       "      <td>NaN</td>\n",
       "      <td>NaN</td>\n",
       "      <td>NaN</td>\n",
       "      <td>NaN</td>\n",
       "      <td>NaN</td>\n",
       "      <td>NaN</td>\n",
       "    </tr>\n",
       "  </tbody>\n",
       "</table>\n",
       "<p>3 rows × 72 columns</p>\n",
       "</div>"
      ],
      "text/plain": [
       "      Record ID                              Institute  \\\n",
       "0  6.341330e+17  Southern Queensland Institute of TAFE   \n",
       "1  6.341337e+17            Mount Isa Institute of TAFE   \n",
       "2  6.341388e+17            Mount Isa Institute of TAFE   \n",
       "\n",
       "                   WorkArea  CESSATION YEAR Reason for ceasing employment  \\\n",
       "0  Non-Delivery (corporate)          2010.0              Contract Expired   \n",
       "1  Non-Delivery (corporate)          2010.0                    Retirement   \n",
       "2       Delivery (teaching)          2010.0                    Retirement   \n",
       "\n",
       "  Contributing Factors. Career Move - Public Sector   \\\n",
       "0                                                NaN   \n",
       "1                                                  -   \n",
       "2                                                  -   \n",
       "\n",
       "  Contributing Factors. Career Move - Private Sector   \\\n",
       "0                                                NaN    \n",
       "1                                                  -    \n",
       "2                                                  -    \n",
       "\n",
       "  Contributing Factors. Career Move - Self-employment  \\\n",
       "0                                                NaN    \n",
       "1                                                  -    \n",
       "2                                                  -    \n",
       "\n",
       "  Contributing Factors. Ill Health Contributing Factors. Maternity/Family  \\\n",
       "0                              NaN                                    NaN   \n",
       "1                                -                                      -   \n",
       "2                                -                                      -   \n",
       "\n",
       "   ...  \\\n",
       "0  ...   \n",
       "1  ...   \n",
       "2  ...   \n",
       "\n",
       "  Workplace. Topic:Does your workplace promote a work culture free from all forms of unlawful discrimination?  \\\n",
       "0                                                Yes                                                            \n",
       "1                                                Yes                                                            \n",
       "2                                                Yes                                                            \n",
       "\n",
       "  Workplace. Topic:Does your workplace promote and practice the principles of employment equity?  \\\n",
       "0                                                Yes                                               \n",
       "1                                                Yes                                               \n",
       "2                                                Yes                                               \n",
       "\n",
       "  Workplace. Topic:Does your workplace value the diversity of its employees?  \\\n",
       "0                                                Yes                           \n",
       "1                                                Yes                           \n",
       "2                                                Yes                           \n",
       "\n",
       "  Workplace. Topic:Would you recommend the Institute as an employer to others?  \\\n",
       "0                                                Yes                             \n",
       "1                                                Yes                             \n",
       "2                                                Yes                             \n",
       "\n",
       "  Gender. What is your Gender? CurrentAge. Current Age  \\\n",
       "0                       Female                  26  30   \n",
       "1                          NaN                     NaN   \n",
       "2                          NaN                     NaN   \n",
       "\n",
       "  Employment Type. Employment Type Classification. Classification  \\\n",
       "0              Temporary Full-time            Administration (AO)   \n",
       "1                              NaN                            NaN   \n",
       "2                              NaN                            NaN   \n",
       "\n",
       "  LengthofServiceOverall. Overall Length of Service at Institute (in years)  \\\n",
       "0                                                1-2                          \n",
       "1                                                NaN                          \n",
       "2                                                NaN                          \n",
       "\n",
       "  LengthofServiceCurrent. Length of Service at current workplace (in years)  \n",
       "0                                                1-2                         \n",
       "1                                                NaN                         \n",
       "2                                                NaN                         \n",
       "\n",
       "[3 rows x 72 columns]"
      ]
     },
     "execution_count": 12,
     "metadata": {},
     "output_type": "execute_result"
    }
   ],
   "source": [
    "tafe_survey.head(3)"
   ]
  },
  {
   "cell_type": "code",
   "execution_count": 13,
   "id": "357506d6-6f4b-4817-bddf-99185a655448",
   "metadata": {},
   "outputs": [
    {
     "data": {
      "text/html": [
       "<div>\n",
       "<style scoped>\n",
       "    .dataframe tbody tr th:only-of-type {\n",
       "        vertical-align: middle;\n",
       "    }\n",
       "\n",
       "    .dataframe tbody tr th {\n",
       "        vertical-align: top;\n",
       "    }\n",
       "\n",
       "    .dataframe thead th {\n",
       "        text-align: right;\n",
       "    }\n",
       "</style>\n",
       "<table border=\"1\" class=\"dataframe\">\n",
       "  <thead>\n",
       "    <tr style=\"text-align: right;\">\n",
       "      <th></th>\n",
       "      <th>ID</th>\n",
       "      <th>SeparationType</th>\n",
       "      <th>Cease Date</th>\n",
       "      <th>DETE Start Date</th>\n",
       "      <th>Role Start Date</th>\n",
       "      <th>Position</th>\n",
       "      <th>Classification</th>\n",
       "      <th>Region</th>\n",
       "      <th>Business Unit</th>\n",
       "      <th>Employment Status</th>\n",
       "      <th>...</th>\n",
       "      <th>Kept informed</th>\n",
       "      <th>Wellness programs</th>\n",
       "      <th>Health &amp; Safety</th>\n",
       "      <th>Gender</th>\n",
       "      <th>Age</th>\n",
       "      <th>Aboriginal</th>\n",
       "      <th>Torres Strait</th>\n",
       "      <th>South Sea</th>\n",
       "      <th>Disability</th>\n",
       "      <th>NESB</th>\n",
       "    </tr>\n",
       "  </thead>\n",
       "  <tbody>\n",
       "    <tr>\n",
       "      <th>0</th>\n",
       "      <td>1</td>\n",
       "      <td>Ill Health Retirement</td>\n",
       "      <td>08/2012</td>\n",
       "      <td>1984.0</td>\n",
       "      <td>2004.0</td>\n",
       "      <td>Public Servant</td>\n",
       "      <td>A01-A04</td>\n",
       "      <td>Central Office</td>\n",
       "      <td>Corporate Strategy and Peformance</td>\n",
       "      <td>Permanent Full-time</td>\n",
       "      <td>...</td>\n",
       "      <td>N</td>\n",
       "      <td>N</td>\n",
       "      <td>N</td>\n",
       "      <td>Male</td>\n",
       "      <td>56-60</td>\n",
       "      <td>NaN</td>\n",
       "      <td>NaN</td>\n",
       "      <td>NaN</td>\n",
       "      <td>NaN</td>\n",
       "      <td>Yes</td>\n",
       "    </tr>\n",
       "    <tr>\n",
       "      <th>1</th>\n",
       "      <td>2</td>\n",
       "      <td>Voluntary Early Retirement (VER)</td>\n",
       "      <td>08/2012</td>\n",
       "      <td>NaN</td>\n",
       "      <td>NaN</td>\n",
       "      <td>Public Servant</td>\n",
       "      <td>AO5-AO7</td>\n",
       "      <td>Central Office</td>\n",
       "      <td>Corporate Strategy and Peformance</td>\n",
       "      <td>Permanent Full-time</td>\n",
       "      <td>...</td>\n",
       "      <td>N</td>\n",
       "      <td>N</td>\n",
       "      <td>N</td>\n",
       "      <td>Male</td>\n",
       "      <td>56-60</td>\n",
       "      <td>NaN</td>\n",
       "      <td>NaN</td>\n",
       "      <td>NaN</td>\n",
       "      <td>NaN</td>\n",
       "      <td>NaN</td>\n",
       "    </tr>\n",
       "    <tr>\n",
       "      <th>2</th>\n",
       "      <td>3</td>\n",
       "      <td>Voluntary Early Retirement (VER)</td>\n",
       "      <td>05/2012</td>\n",
       "      <td>2011.0</td>\n",
       "      <td>2011.0</td>\n",
       "      <td>Schools Officer</td>\n",
       "      <td>NaN</td>\n",
       "      <td>Central Office</td>\n",
       "      <td>Education Queensland</td>\n",
       "      <td>Permanent Full-time</td>\n",
       "      <td>...</td>\n",
       "      <td>N</td>\n",
       "      <td>N</td>\n",
       "      <td>N</td>\n",
       "      <td>Male</td>\n",
       "      <td>61 or older</td>\n",
       "      <td>NaN</td>\n",
       "      <td>NaN</td>\n",
       "      <td>NaN</td>\n",
       "      <td>NaN</td>\n",
       "      <td>NaN</td>\n",
       "    </tr>\n",
       "  </tbody>\n",
       "</table>\n",
       "<p>3 rows × 56 columns</p>\n",
       "</div>"
      ],
      "text/plain": [
       "   ID                    SeparationType Cease Date  DETE Start Date  \\\n",
       "0   1             Ill Health Retirement    08/2012           1984.0   \n",
       "1   2  Voluntary Early Retirement (VER)    08/2012              NaN   \n",
       "2   3  Voluntary Early Retirement (VER)    05/2012           2011.0   \n",
       "\n",
       "   Role Start Date         Position Classification          Region  \\\n",
       "0           2004.0   Public Servant        A01-A04  Central Office   \n",
       "1              NaN   Public Servant        AO5-AO7  Central Office   \n",
       "2           2011.0  Schools Officer            NaN  Central Office   \n",
       "\n",
       "                       Business Unit    Employment Status  ...  Kept informed  \\\n",
       "0  Corporate Strategy and Peformance  Permanent Full-time  ...              N   \n",
       "1  Corporate Strategy and Peformance  Permanent Full-time  ...              N   \n",
       "2               Education Queensland  Permanent Full-time  ...              N   \n",
       "\n",
       "   Wellness programs  Health & Safety  Gender          Age  Aboriginal  \\\n",
       "0                  N                N    Male        56-60         NaN   \n",
       "1                  N                N    Male        56-60         NaN   \n",
       "2                  N                N    Male  61 or older         NaN   \n",
       "\n",
       "   Torres Strait  South Sea  Disability  NESB  \n",
       "0            NaN        NaN         NaN   Yes  \n",
       "1            NaN        NaN         NaN   NaN  \n",
       "2            NaN        NaN         NaN   NaN  \n",
       "\n",
       "[3 rows x 56 columns]"
      ]
     },
     "execution_count": 13,
     "metadata": {},
     "output_type": "execute_result"
    }
   ],
   "source": [
    "dete_survey.head(3)"
   ]
  },
  {
   "cell_type": "markdown",
   "id": "5739e208-ea66-4980-9165-d288728f2031",
   "metadata": {},
   "source": [
    "We will now drop columns 28-49 in our `dete` survey to make our dataset easier to work with."
   ]
  },
  {
   "cell_type": "code",
   "execution_count": 14,
   "id": "bfff44d1-8d8b-4bca-8b9f-784b29580b6b",
   "metadata": {},
   "outputs": [],
   "source": [
    "dete_survey_updated = dete_survey.drop(dete_survey.columns[28:49], axis=1)"
   ]
  },
  {
   "cell_type": "markdown",
   "id": "308779cf-f264-4bb6-935f-f5dc1aeefe9f",
   "metadata": {},
   "source": [
    "We can do the same thing for our `tafe` survey, dropping columns 17-66."
   ]
  },
  {
   "cell_type": "code",
   "execution_count": 15,
   "id": "1b486403-1a85-4009-a243-f112b3e67bc3",
   "metadata": {},
   "outputs": [],
   "source": [
    "tafe_survey_updated = tafe_survey.drop(tafe_survey.columns[17:66],axis=1)"
   ]
  },
  {
   "cell_type": "code",
   "execution_count": 16,
   "id": "e336f79a-51ad-432b-a430-8ca902d360df",
   "metadata": {},
   "outputs": [
    {
     "data": {
      "text/html": [
       "<div>\n",
       "<style scoped>\n",
       "    .dataframe tbody tr th:only-of-type {\n",
       "        vertical-align: middle;\n",
       "    }\n",
       "\n",
       "    .dataframe tbody tr th {\n",
       "        vertical-align: top;\n",
       "    }\n",
       "\n",
       "    .dataframe thead th {\n",
       "        text-align: right;\n",
       "    }\n",
       "</style>\n",
       "<table border=\"1\" class=\"dataframe\">\n",
       "  <thead>\n",
       "    <tr style=\"text-align: right;\">\n",
       "      <th></th>\n",
       "      <th>Record ID</th>\n",
       "      <th>Institute</th>\n",
       "      <th>WorkArea</th>\n",
       "      <th>CESSATION YEAR</th>\n",
       "      <th>Reason for ceasing employment</th>\n",
       "      <th>Contributing Factors. Career Move - Public Sector</th>\n",
       "      <th>Contributing Factors. Career Move - Private Sector</th>\n",
       "      <th>Contributing Factors. Career Move - Self-employment</th>\n",
       "      <th>Contributing Factors. Ill Health</th>\n",
       "      <th>Contributing Factors. Maternity/Family</th>\n",
       "      <th>...</th>\n",
       "      <th>Contributing Factors. Study</th>\n",
       "      <th>Contributing Factors. Travel</th>\n",
       "      <th>Contributing Factors. Other</th>\n",
       "      <th>Contributing Factors. NONE</th>\n",
       "      <th>Gender. What is your Gender?</th>\n",
       "      <th>CurrentAge. Current Age</th>\n",
       "      <th>Employment Type. Employment Type</th>\n",
       "      <th>Classification. Classification</th>\n",
       "      <th>LengthofServiceOverall. Overall Length of Service at Institute (in years)</th>\n",
       "      <th>LengthofServiceCurrent. Length of Service at current workplace (in years)</th>\n",
       "    </tr>\n",
       "  </thead>\n",
       "  <tbody>\n",
       "    <tr>\n",
       "      <th>0</th>\n",
       "      <td>6.341330e+17</td>\n",
       "      <td>Southern Queensland Institute of TAFE</td>\n",
       "      <td>Non-Delivery (corporate)</td>\n",
       "      <td>2010.0</td>\n",
       "      <td>Contract Expired</td>\n",
       "      <td>NaN</td>\n",
       "      <td>NaN</td>\n",
       "      <td>NaN</td>\n",
       "      <td>NaN</td>\n",
       "      <td>NaN</td>\n",
       "      <td>...</td>\n",
       "      <td>NaN</td>\n",
       "      <td>NaN</td>\n",
       "      <td>NaN</td>\n",
       "      <td>NaN</td>\n",
       "      <td>Female</td>\n",
       "      <td>26  30</td>\n",
       "      <td>Temporary Full-time</td>\n",
       "      <td>Administration (AO)</td>\n",
       "      <td>1-2</td>\n",
       "      <td>1-2</td>\n",
       "    </tr>\n",
       "    <tr>\n",
       "      <th>1</th>\n",
       "      <td>6.341337e+17</td>\n",
       "      <td>Mount Isa Institute of TAFE</td>\n",
       "      <td>Non-Delivery (corporate)</td>\n",
       "      <td>2010.0</td>\n",
       "      <td>Retirement</td>\n",
       "      <td>-</td>\n",
       "      <td>-</td>\n",
       "      <td>-</td>\n",
       "      <td>-</td>\n",
       "      <td>-</td>\n",
       "      <td>...</td>\n",
       "      <td>-</td>\n",
       "      <td>Travel</td>\n",
       "      <td>-</td>\n",
       "      <td>-</td>\n",
       "      <td>NaN</td>\n",
       "      <td>NaN</td>\n",
       "      <td>NaN</td>\n",
       "      <td>NaN</td>\n",
       "      <td>NaN</td>\n",
       "      <td>NaN</td>\n",
       "    </tr>\n",
       "    <tr>\n",
       "      <th>2</th>\n",
       "      <td>6.341388e+17</td>\n",
       "      <td>Mount Isa Institute of TAFE</td>\n",
       "      <td>Delivery (teaching)</td>\n",
       "      <td>2010.0</td>\n",
       "      <td>Retirement</td>\n",
       "      <td>-</td>\n",
       "      <td>-</td>\n",
       "      <td>-</td>\n",
       "      <td>-</td>\n",
       "      <td>-</td>\n",
       "      <td>...</td>\n",
       "      <td>-</td>\n",
       "      <td>-</td>\n",
       "      <td>-</td>\n",
       "      <td>NONE</td>\n",
       "      <td>NaN</td>\n",
       "      <td>NaN</td>\n",
       "      <td>NaN</td>\n",
       "      <td>NaN</td>\n",
       "      <td>NaN</td>\n",
       "      <td>NaN</td>\n",
       "    </tr>\n",
       "  </tbody>\n",
       "</table>\n",
       "<p>3 rows × 23 columns</p>\n",
       "</div>"
      ],
      "text/plain": [
       "      Record ID                              Institute  \\\n",
       "0  6.341330e+17  Southern Queensland Institute of TAFE   \n",
       "1  6.341337e+17            Mount Isa Institute of TAFE   \n",
       "2  6.341388e+17            Mount Isa Institute of TAFE   \n",
       "\n",
       "                   WorkArea  CESSATION YEAR Reason for ceasing employment  \\\n",
       "0  Non-Delivery (corporate)          2010.0              Contract Expired   \n",
       "1  Non-Delivery (corporate)          2010.0                    Retirement   \n",
       "2       Delivery (teaching)          2010.0                    Retirement   \n",
       "\n",
       "  Contributing Factors. Career Move - Public Sector   \\\n",
       "0                                                NaN   \n",
       "1                                                  -   \n",
       "2                                                  -   \n",
       "\n",
       "  Contributing Factors. Career Move - Private Sector   \\\n",
       "0                                                NaN    \n",
       "1                                                  -    \n",
       "2                                                  -    \n",
       "\n",
       "  Contributing Factors. Career Move - Self-employment  \\\n",
       "0                                                NaN    \n",
       "1                                                  -    \n",
       "2                                                  -    \n",
       "\n",
       "  Contributing Factors. Ill Health Contributing Factors. Maternity/Family  \\\n",
       "0                              NaN                                    NaN   \n",
       "1                                -                                      -   \n",
       "2                                -                                      -   \n",
       "\n",
       "   ... Contributing Factors. Study Contributing Factors. Travel  \\\n",
       "0  ...                         NaN                          NaN   \n",
       "1  ...                           -                       Travel   \n",
       "2  ...                           -                            -   \n",
       "\n",
       "  Contributing Factors. Other Contributing Factors. NONE  \\\n",
       "0                         NaN                        NaN   \n",
       "1                           -                          -   \n",
       "2                           -                       NONE   \n",
       "\n",
       "  Gender. What is your Gender? CurrentAge. Current Age  \\\n",
       "0                       Female                  26  30   \n",
       "1                          NaN                     NaN   \n",
       "2                          NaN                     NaN   \n",
       "\n",
       "  Employment Type. Employment Type Classification. Classification  \\\n",
       "0              Temporary Full-time            Administration (AO)   \n",
       "1                              NaN                            NaN   \n",
       "2                              NaN                            NaN   \n",
       "\n",
       "  LengthofServiceOverall. Overall Length of Service at Institute (in years)  \\\n",
       "0                                                1-2                          \n",
       "1                                                NaN                          \n",
       "2                                                NaN                          \n",
       "\n",
       "  LengthofServiceCurrent. Length of Service at current workplace (in years)  \n",
       "0                                                1-2                         \n",
       "1                                                NaN                         \n",
       "2                                                NaN                         \n",
       "\n",
       "[3 rows x 23 columns]"
      ]
     },
     "execution_count": 16,
     "metadata": {},
     "output_type": "execute_result"
    }
   ],
   "source": [
    "tafe_survey_updated.head(3)"
   ]
  },
  {
   "cell_type": "markdown",
   "id": "14f838b8-a2a9-4994-ad14-e0f394a926d4",
   "metadata": {},
   "source": [
    "In our tafe survey, columns 17-66 covered details as to *why* the employee left which were simply not necessary to guaging whether there was dissatisfaction (answered in our retained data), which is the purpose of our analysis. Columns 28-49 in our dete survey were dropped for the same reasons. "
   ]
  },
  {
   "cell_type": "markdown",
   "id": "e9272db0-6d11-4ee3-ad96-b8923aeee924",
   "metadata": {},
   "source": [
    "### Cleaning Our Columns Names"
   ]
  },
  {
   "cell_type": "markdown",
   "id": "07acd1a9-5fc6-4b58-a8ad-a59974a528ba",
   "metadata": {},
   "source": [
    "Each of our two dataframes contain many of the same columns but with different names. We will need to standardize these to make combining datasets later on, easier."
   ]
  },
  {
   "cell_type": "code",
   "execution_count": 17,
   "id": "280922af-c6a0-4489-baa9-0699f5646e51",
   "metadata": {},
   "outputs": [],
   "source": [
    "# update our dete survey column names--make all capitalization lowercase, \n",
    "# remove trailing whitespace and replace ' ' with '_'\n",
    "dete_survey_updated.columns = dete_survey_updated.columns.str.strip().str.replace(' ','_').str.lower()\n",
    "\n",
    "# update column names for tafe survey\n",
    "tafe_cols = {\n",
    "    'Record ID': 'id',\n",
    "    'CESSATION YEAR': 'cease_date',\n",
    "    'Reason for ceasing employment': 'separationtype',\n",
    "    'Gender.What is your Gender?':'gender',\n",
    "    'CurrentAge. Current Age': 'age',\n",
    "    'Employment Type. Employment Type': 'employment_status',\n",
    "    'Classification. Classification': 'position',\n",
    "    'LengthofServiceOverall. Overall Length of Service at Institute (in years)': 'institute_service',\n",
    "    'LengthofServiceCurrent. Length of Service at current workplace (in years)': 'role_service',\n",
    "}\n",
    "\n",
    "tafe_survey_updated.rename(columns=tafe_cols, inplace=True)\n",
    "    "
   ]
  },
  {
   "cell_type": "code",
   "execution_count": 18,
   "id": "b2e8f0a3-1344-4b27-9dd8-13fb8fd98721",
   "metadata": {},
   "outputs": [
    {
     "data": {
      "text/plain": [
       "Index(['id', 'separationtype', 'cease_date', 'dete_start_date',\n",
       "       'role_start_date', 'position', 'classification', 'region',\n",
       "       'business_unit', 'employment_status', 'career_move_to_public_sector',\n",
       "       'career_move_to_private_sector', 'interpersonal_conflicts',\n",
       "       'job_dissatisfaction', 'dissatisfaction_with_the_department',\n",
       "       'physical_work_environment', 'lack_of_recognition',\n",
       "       'lack_of_job_security', 'work_location', 'employment_conditions',\n",
       "       'maternity/family', 'relocation', 'study/travel', 'ill_health',\n",
       "       'traumatic_incident', 'work_life_balance', 'workload',\n",
       "       'none_of_the_above', 'gender', 'age', 'aboriginal', 'torres_strait',\n",
       "       'south_sea', 'disability', 'nesb'],\n",
       "      dtype='object')"
      ]
     },
     "execution_count": 18,
     "metadata": {},
     "output_type": "execute_result"
    }
   ],
   "source": [
    "dete_survey_updated.columns"
   ]
  },
  {
   "cell_type": "code",
   "execution_count": 19,
   "id": "995874a4-a06f-4699-b420-11dfba05a9aa",
   "metadata": {},
   "outputs": [
    {
     "data": {
      "text/plain": [
       "Index(['id', 'Institute', 'WorkArea', 'cease_date', 'separationtype',\n",
       "       'Contributing Factors. Career Move - Public Sector ',\n",
       "       'Contributing Factors. Career Move - Private Sector ',\n",
       "       'Contributing Factors. Career Move - Self-employment',\n",
       "       'Contributing Factors. Ill Health',\n",
       "       'Contributing Factors. Maternity/Family',\n",
       "       'Contributing Factors. Dissatisfaction',\n",
       "       'Contributing Factors. Job Dissatisfaction',\n",
       "       'Contributing Factors. Interpersonal Conflict',\n",
       "       'Contributing Factors. Study', 'Contributing Factors. Travel',\n",
       "       'Contributing Factors. Other', 'Contributing Factors. NONE',\n",
       "       'Gender. What is your Gender?', 'age', 'employment_status', 'position',\n",
       "       'institute_service', 'role_service'],\n",
       "      dtype='object')"
      ]
     },
     "execution_count": 19,
     "metadata": {},
     "output_type": "execute_result"
    }
   ],
   "source": [
    "tafe_survey_updated.columns"
   ]
  },
  {
   "cell_type": "markdown",
   "id": "232ac556-c6b2-4ab5-8982-146d95751f80",
   "metadata": {},
   "source": [
    "### Removing Unnecessary Data"
   ]
  },
  {
   "cell_type": "markdown",
   "id": "23ac8c1f-b16c-4022-a1e0-9ab9372f92fd",
   "metadata": {},
   "source": [
    "Keeping in mind that our end goal was to answer the following question: \n",
    "- Are employees who have only worked for the institutes for a short period of time resigning due to some kind of dissatisfaction? What about employees who have been at the job longer?\n",
    "\n",
    "With that in mind we are only interested in analyzing separation types:`Resignation`. Also, note that our dete dataframe containes *multiple* types of resignations, we will have to account for these separately. "
   ]
  },
  {
   "cell_type": "code",
   "execution_count": 20,
   "id": "3619d9da-c178-496a-bf5b-53e0582dd3fb",
   "metadata": {},
   "outputs": [
    {
     "data": {
      "text/plain": [
       "array(['Ill Health Retirement', 'Voluntary Early Retirement (VER)',\n",
       "       'Resignation-Other reasons', 'Age Retirement',\n",
       "       'Resignation-Other employer',\n",
       "       'Resignation-Move overseas/interstate', 'Other',\n",
       "       'Contract Expired', 'Termination'], dtype=object)"
      ]
     },
     "execution_count": 20,
     "metadata": {},
     "output_type": "execute_result"
    }
   ],
   "source": [
    "# display all different resignation types\n",
    "dete_survey_updated['separationtype'].unique()"
   ]
  },
  {
   "cell_type": "code",
   "execution_count": 21,
   "id": "0bb278cf-2784-4ab8-b99d-43dfd4d2eba4",
   "metadata": {},
   "outputs": [
    {
     "data": {
      "text/plain": [
       "0      Contract Expired\n",
       "1            Retirement\n",
       "2            Retirement\n",
       "3           Resignation\n",
       "4           Resignation\n",
       "             ...       \n",
       "697         Resignation\n",
       "698         Resignation\n",
       "699         Resignation\n",
       "700    Contract Expired\n",
       "701         Resignation\n",
       "Name: separationtype, Length: 702, dtype: object"
      ]
     },
     "execution_count": 21,
     "metadata": {},
     "output_type": "execute_result"
    }
   ],
   "source": [
    "tafe_survey_updated['separationtype']"
   ]
  },
  {
   "cell_type": "markdown",
   "id": "be4108db-0548-489d-90b7-42668d38d796",
   "metadata": {},
   "source": [
    "Notice that our tafe survey has only one resignation type and can be left as-is. Now, in our dete dataframe, let's select all rows where `separationtype` is any one of three resignation types. "
   ]
  },
  {
   "cell_type": "code",
   "execution_count": 22,
   "id": "12aa7e81-613d-4e22-b65a-efcf3ade6ee7",
   "metadata": {},
   "outputs": [],
   "source": [
    "# accounting for all 3 types of resignations, ignoring all others\n",
    "dete_resignations = dete_survey_updated[(dete_survey_updated['separationtype'] == 'Resignation-Other reasons') |\n",
    "                                        (dete_survey_updated['separationtype'] == 'Resignation-Move overseas/interstate') |\n",
    "                                        (dete_survey_updated['separationtype'] == 'Resignation-Other employer') ].copy()\n",
    "# there's only one type of resignation for the tafe survey                                       \n",
    "tafe_resignations = tafe_survey_updated[tafe_survey_updated['separationtype'] == 'Resignation'].copy()"
   ]
  },
  {
   "cell_type": "code",
   "execution_count": 23,
   "id": "8feff781-8333-44d8-ae14-8d4698c45594",
   "metadata": {},
   "outputs": [
    {
     "name": "stdout",
     "output_type": "stream",
     "text": [
      "<class 'pandas.core.frame.DataFrame'>\n",
      "Int64Index: 340 entries, 3 to 701\n",
      "Data columns (total 23 columns):\n",
      " #   Column                                               Non-Null Count  Dtype  \n",
      "---  ------                                               --------------  -----  \n",
      " 0   id                                                   340 non-null    float64\n",
      " 1   Institute                                            340 non-null    object \n",
      " 2   WorkArea                                             340 non-null    object \n",
      " 3   cease_date                                           335 non-null    float64\n",
      " 4   separationtype                                       340 non-null    object \n",
      " 5   Contributing Factors. Career Move - Public Sector    332 non-null    object \n",
      " 6   Contributing Factors. Career Move - Private Sector   332 non-null    object \n",
      " 7   Contributing Factors. Career Move - Self-employment  332 non-null    object \n",
      " 8   Contributing Factors. Ill Health                     332 non-null    object \n",
      " 9   Contributing Factors. Maternity/Family               332 non-null    object \n",
      " 10  Contributing Factors. Dissatisfaction                332 non-null    object \n",
      " 11  Contributing Factors. Job Dissatisfaction            332 non-null    object \n",
      " 12  Contributing Factors. Interpersonal Conflict         332 non-null    object \n",
      " 13  Contributing Factors. Study                          332 non-null    object \n",
      " 14  Contributing Factors. Travel                         332 non-null    object \n",
      " 15  Contributing Factors. Other                          332 non-null    object \n",
      " 16  Contributing Factors. NONE                           332 non-null    object \n",
      " 17  Gender. What is your Gender?                         290 non-null    object \n",
      " 18  age                                                  290 non-null    object \n",
      " 19  employment_status                                    290 non-null    object \n",
      " 20  position                                             290 non-null    object \n",
      " 21  institute_service                                    290 non-null    object \n",
      " 22  role_service                                         290 non-null    object \n",
      "dtypes: float64(2), object(21)\n",
      "memory usage: 63.8+ KB\n"
     ]
    }
   ],
   "source": [
    "tafe_resignations.info()"
   ]
  },
  {
   "cell_type": "markdown",
   "id": "6ddff855-d32d-484f-af41-527bfb783b03",
   "metadata": {},
   "source": [
    "#### Checking our Years Columns for Inconsistencies"
   ]
  },
  {
   "cell_type": "markdown",
   "id": "d55398b7-daec-4a70-bfba-f0df8496c9de",
   "metadata": {},
   "source": [
    "So far, we have two dataframes: `dete_resignations` and `tafe_resignations` that contain only employees that resigned. Let's check our years column in both dataframes to make sure everything is consistent and logical."
   ]
  },
  {
   "cell_type": "code",
   "execution_count": 24,
   "id": "7046f66c-1dc3-4339-8493-c84ef72985a2",
   "metadata": {},
   "outputs": [
    {
     "data": {
      "text/plain": [
       "2012       126\n",
       "2013        74\n",
       "01/2014     22\n",
       "12/2013     17\n",
       "06/2013     14\n",
       "09/2013     11\n",
       "07/2013      9\n",
       "11/2013      9\n",
       "10/2013      6\n",
       "08/2013      4\n",
       "05/2012      2\n",
       "05/2013      2\n",
       "07/2012      1\n",
       "2010         1\n",
       "09/2010      1\n",
       "07/2006      1\n",
       "Name: cease_date, dtype: int64"
      ]
     },
     "execution_count": 24,
     "metadata": {},
     "output_type": "execute_result"
    }
   ],
   "source": [
    "dete_resignations['cease_date'].value_counts()"
   ]
  },
  {
   "cell_type": "markdown",
   "id": "a97769fc-d205-402d-8a13-443ae2bf5446",
   "metadata": {},
   "source": [
    "We will need to extract the year for this column."
   ]
  },
  {
   "cell_type": "code",
   "execution_count": 25,
   "id": "cd577b1e-887d-4ca2-979c-406e4cc6c69d",
   "metadata": {},
   "outputs": [],
   "source": [
    "# extract only the four digit year\n",
    "dete_resignations['cease_date'] = dete_resignations['cease_date'].str[-4:]"
   ]
  },
  {
   "cell_type": "code",
   "execution_count": 26,
   "id": "c651a768-011c-4b4e-8242-a352cb86a97e",
   "metadata": {},
   "outputs": [],
   "source": [
    "# convert our year column to float \n",
    "dete_resignations['cease_date'] = dete_resignations['cease_date'].astype(float)"
   ]
  },
  {
   "cell_type": "code",
   "execution_count": 27,
   "id": "614a0e30-094f-4a1f-bc50-7a44573bb3f8",
   "metadata": {},
   "outputs": [
    {
     "data": {
      "text/plain": [
       "2013.0    146\n",
       "2012.0    129\n",
       "2014.0     22\n",
       "2010.0      2\n",
       "2006.0      1\n",
       "Name: cease_date, dtype: int64"
      ]
     },
     "execution_count": 27,
     "metadata": {},
     "output_type": "execute_result"
    }
   ],
   "source": [
    "dete_resignations['cease_date'].value_counts()"
   ]
  },
  {
   "cell_type": "code",
   "execution_count": 28,
   "id": "d9682a50-f211-4659-9b8b-5cfe3db8c76b",
   "metadata": {},
   "outputs": [
    {
     "data": {
      "text/plain": [
       "2011.0    24\n",
       "2008.0    22\n",
       "2012.0    21\n",
       "2007.0    21\n",
       "2010.0    17\n",
       "2005.0    15\n",
       "2004.0    14\n",
       "2006.0    13\n",
       "2009.0    13\n",
       "2013.0    10\n",
       "2000.0     9\n",
       "1999.0     8\n",
       "1994.0     6\n",
       "2003.0     6\n",
       "1992.0     6\n",
       "1996.0     6\n",
       "1998.0     6\n",
       "2002.0     6\n",
       "1990.0     5\n",
       "1997.0     5\n",
       "1980.0     5\n",
       "1993.0     5\n",
       "1989.0     4\n",
       "1991.0     4\n",
       "1988.0     4\n",
       "1995.0     4\n",
       "1986.0     3\n",
       "2001.0     3\n",
       "1985.0     3\n",
       "1983.0     2\n",
       "1976.0     2\n",
       "1974.0     2\n",
       "1975.0     1\n",
       "1984.0     1\n",
       "1971.0     1\n",
       "1982.0     1\n",
       "1972.0     1\n",
       "1963.0     1\n",
       "1977.0     1\n",
       "1973.0     1\n",
       "1987.0     1\n",
       "Name: dete_start_date, dtype: int64"
      ]
     },
     "execution_count": 28,
     "metadata": {},
     "output_type": "execute_result"
    }
   ],
   "source": [
    "dete_resignations['dete_start_date'].value_counts()"
   ]
  },
  {
   "cell_type": "markdown",
   "id": "55fa83cc-f136-4525-bad2-b4a7ad10c47c",
   "metadata": {},
   "source": [
    "Next, we'll subtract the year they started from the year they left to ensure there are no negative values which would make no sense."
   ]
  },
  {
   "cell_type": "code",
   "execution_count": 29,
   "id": "fe5d8c14-7dd9-414f-b9b0-130ef666486f",
   "metadata": {},
   "outputs": [],
   "source": [
    "# double checking for negative values which would indicate erroneous data\n",
    "negative_date_check = dete_resignations['cease_date'] - dete_resignations['dete_start_date']"
   ]
  },
  {
   "cell_type": "code",
   "execution_count": 30,
   "id": "c715e103-0c26-497a-bb1b-7e9ab79100c4",
   "metadata": {},
   "outputs": [
    {
     "data": {
      "text/plain": [
       "49.0     1\n",
       "42.0     1\n",
       "41.0     1\n",
       "39.0     3\n",
       "38.0     1\n",
       "36.0     2\n",
       "35.0     1\n",
       "34.0     1\n",
       "33.0     1\n",
       "32.0     3\n",
       "31.0     1\n",
       "30.0     2\n",
       "29.0     1\n",
       "28.0     2\n",
       "27.0     1\n",
       "26.0     2\n",
       "25.0     2\n",
       "24.0     4\n",
       "23.0     4\n",
       "22.0     6\n",
       "21.0     3\n",
       "20.0     7\n",
       "19.0     3\n",
       "18.0     5\n",
       "17.0     6\n",
       "16.0     5\n",
       "15.0     7\n",
       "14.0     6\n",
       "13.0     8\n",
       "12.0     6\n",
       "11.0     4\n",
       "10.0     6\n",
       "9.0     14\n",
       "8.0      8\n",
       "7.0     13\n",
       "6.0     17\n",
       "5.0     23\n",
       "4.0     16\n",
       "3.0     20\n",
       "2.0     14\n",
       "1.0     22\n",
       "0.0     20\n",
       "dtype: int64"
      ]
     },
     "execution_count": 30,
     "metadata": {},
     "output_type": "execute_result"
    }
   ],
   "source": [
    "negative_date_check.value_counts().sort_index(ascending=False)"
   ]
  },
  {
   "cell_type": "markdown",
   "id": "87b15b55-1f20-446b-a429-65a3748ad53e",
   "metadata": {},
   "source": [
    "With all of our dates logical and consistent. Let's turn our attention to the `cease_date` column in our tafe survey."
   ]
  },
  {
   "cell_type": "code",
   "execution_count": 31,
   "id": "9c4ef8f4-6227-487c-ac29-75a61b6e8869",
   "metadata": {},
   "outputs": [
    {
     "data": {
      "text/plain": [
       "2009.0      2\n",
       "2010.0     68\n",
       "2011.0    116\n",
       "2012.0     94\n",
       "2013.0     55\n",
       "Name: cease_date, dtype: int64"
      ]
     },
     "execution_count": 31,
     "metadata": {},
     "output_type": "execute_result"
    }
   ],
   "source": [
    "tafe_resignations['cease_date'].value_counts().sort_index()"
   ]
  },
  {
   "cell_type": "markdown",
   "id": "b9974a9b-ecb6-410a-b0f2-d075e5b6afcd",
   "metadata": {},
   "source": [
    "So far, there are no major issues with years.\n",
    "Since our first goal for the analysis concerns employees who have worked for the instititues a \"short period of time\", we will compute the employment term for the `dete_resignations` dataframe and assign it to a new column, `institute_service`. In the tafe survey this column already exists as `institute_service`."
   ]
  },
  {
   "cell_type": "code",
   "execution_count": 32,
   "id": "27066f0a-46b7-4d4f-b9ff-8ada03df589c",
   "metadata": {},
   "outputs": [
    {
     "data": {
      "text/plain": [
       "Less than 1 year      73\n",
       "1-2                   64\n",
       "3-4                   63\n",
       "5-6                   33\n",
       "11-20                 26\n",
       "7-10                  21\n",
       "More than 20 years    10\n",
       "Name: institute_service, dtype: int64"
      ]
     },
     "execution_count": 32,
     "metadata": {},
     "output_type": "execute_result"
    }
   ],
   "source": [
    "tafe_resignations['institute_service'].value_counts()"
   ]
  },
  {
   "cell_type": "code",
   "execution_count": 33,
   "id": "0aeae0e4-750b-45d6-add4-83e7040fce43",
   "metadata": {},
   "outputs": [],
   "source": [
    "# create a new column with length of employment for the dete survey\n",
    "dete_resignations['institute_service'] = dete_resignations['cease_date'] - dete_resignations['dete_start_date']"
   ]
  },
  {
   "cell_type": "code",
   "execution_count": 34,
   "id": "df437042-5913-4a81-b1ba-9ab0496e47e1",
   "metadata": {},
   "outputs": [
    {
     "data": {
      "text/plain": [
       "0.0     20\n",
       "1.0     22\n",
       "2.0     14\n",
       "3.0     20\n",
       "4.0     16\n",
       "5.0     23\n",
       "6.0     17\n",
       "7.0     13\n",
       "8.0      8\n",
       "9.0     14\n",
       "10.0     6\n",
       "11.0     4\n",
       "12.0     6\n",
       "13.0     8\n",
       "14.0     6\n",
       "15.0     7\n",
       "16.0     5\n",
       "17.0     6\n",
       "18.0     5\n",
       "19.0     3\n",
       "20.0     7\n",
       "21.0     3\n",
       "22.0     6\n",
       "23.0     4\n",
       "24.0     4\n",
       "25.0     2\n",
       "26.0     2\n",
       "27.0     1\n",
       "28.0     2\n",
       "29.0     1\n",
       "30.0     2\n",
       "31.0     1\n",
       "32.0     3\n",
       "33.0     1\n",
       "34.0     1\n",
       "35.0     1\n",
       "36.0     2\n",
       "38.0     1\n",
       "39.0     3\n",
       "41.0     1\n",
       "42.0     1\n",
       "49.0     1\n",
       "Name: institute_service, dtype: int64"
      ]
     },
     "execution_count": 34,
     "metadata": {},
     "output_type": "execute_result"
    }
   ],
   "source": [
    "dete_resignations['institute_service'].value_counts().sort_index()"
   ]
  },
  {
   "cell_type": "markdown",
   "id": "23221a13-fc77-48d1-afd9-b03fa16feb84",
   "metadata": {},
   "source": [
    "### Identifying Dissatisfied Employees for the Tafe Survey (Criteria)"
   ]
  },
  {
   "cell_type": "markdown",
   "id": "9a1605b9-0696-47da-aa97-72ecc8bdf1f5",
   "metadata": {},
   "source": [
    "Before we can find the answer to whether employees who resigned early did so out of dissatisfaction, we must identify dissatisfied employees! For the tafe survey, the columns we will use to classify an employee as \"dissatisfied\" will be:\n",
    "\n",
    "- `Contributing Factors. Dissatisfaction`\n",
    "- `Contributing Factors. Job Dissatisfaction`\n",
    "- `Contributing Factors. Interpersonal Conflict`\n",
    "\n",
    "Interpersonal conflict is a type of dissatisfaction (a dissatisfaction with people in work environment) so we will use this column. \n",
    "Contributing Factors. Dissatisfaction"
   ]
  },
  {
   "cell_type": "markdown",
   "id": "0e2c3b06-a6c6-4ed4-980d-c938d5cca418",
   "metadata": {},
   "source": [
    "### Identifying Dissatisfied Employees for the Dete Survey (Criteria)"
   ]
  },
  {
   "cell_type": "markdown",
   "id": "30f870d7-aaa6-4d26-9d53-0f3b6e8bfd6a",
   "metadata": {},
   "source": [
    "For the dete survey, we will use the following columns to categorize employees as \"dissatisfied\":\n",
    "\n",
    "- `job_dissatisfaction`\n",
    "- `dissatisfaction_with_the_department`\n",
    "- `physical_work_environment`\n",
    "- `lack_of_recognition`\n",
    "- `lack_of_job_security`\n",
    "- `work_location`\n",
    "- `employment_conditions`\n",
    "- `work_life_balance`\n",
    "- `workload`\n"
   ]
  },
  {
   "cell_type": "markdown",
   "id": "34527703-fc92-404b-87f2-8271e1b1add2",
   "metadata": {},
   "source": [
    "In both datasets, if employees indicated any of the factors above caused them to resign, we will mark them as `dissatisfied` in a new column. \n"
   ]
  },
  {
   "cell_type": "markdown",
   "id": "b11585a3-2e83-45a1-897e-e4b12f887334",
   "metadata": {},
   "source": [
    "First, will convert all dissatisfaction indicator columns to bool or NaN values.If there is a single `True` value in any of those columns, we will add a `True` value to our new `dissatisfied` column."
   ]
  },
  {
   "cell_type": "code",
   "execution_count": 35,
   "id": "ecf3e42c-c765-4c3d-8d8f-f70f3717b5cf",
   "metadata": {},
   "outputs": [
    {
     "data": {
      "text/html": [
       "<div>\n",
       "<style scoped>\n",
       "    .dataframe tbody tr th:only-of-type {\n",
       "        vertical-align: middle;\n",
       "    }\n",
       "\n",
       "    .dataframe tbody tr th {\n",
       "        vertical-align: top;\n",
       "    }\n",
       "\n",
       "    .dataframe thead th {\n",
       "        text-align: right;\n",
       "    }\n",
       "</style>\n",
       "<table border=\"1\" class=\"dataframe\">\n",
       "  <thead>\n",
       "    <tr style=\"text-align: right;\">\n",
       "      <th></th>\n",
       "      <th>id</th>\n",
       "      <th>Institute</th>\n",
       "      <th>WorkArea</th>\n",
       "      <th>cease_date</th>\n",
       "      <th>separationtype</th>\n",
       "      <th>Contributing Factors. Career Move - Public Sector</th>\n",
       "      <th>Contributing Factors. Career Move - Private Sector</th>\n",
       "      <th>Contributing Factors. Career Move - Self-employment</th>\n",
       "      <th>Contributing Factors. Ill Health</th>\n",
       "      <th>Contributing Factors. Maternity/Family</th>\n",
       "      <th>...</th>\n",
       "      <th>Contributing Factors. Study</th>\n",
       "      <th>Contributing Factors. Travel</th>\n",
       "      <th>Contributing Factors. Other</th>\n",
       "      <th>Contributing Factors. NONE</th>\n",
       "      <th>Gender. What is your Gender?</th>\n",
       "      <th>age</th>\n",
       "      <th>employment_status</th>\n",
       "      <th>position</th>\n",
       "      <th>institute_service</th>\n",
       "      <th>role_service</th>\n",
       "    </tr>\n",
       "  </thead>\n",
       "  <tbody>\n",
       "  </tbody>\n",
       "</table>\n",
       "<p>0 rows × 23 columns</p>\n",
       "</div>"
      ],
      "text/plain": [
       "Empty DataFrame\n",
       "Columns: [id, Institute, WorkArea, cease_date, separationtype, Contributing Factors. Career Move - Public Sector , Contributing Factors. Career Move - Private Sector , Contributing Factors. Career Move - Self-employment, Contributing Factors. Ill Health, Contributing Factors. Maternity/Family, Contributing Factors. Dissatisfaction, Contributing Factors. Job Dissatisfaction, Contributing Factors. Interpersonal Conflict, Contributing Factors. Study, Contributing Factors. Travel, Contributing Factors. Other, Contributing Factors. NONE, Gender. What is your Gender?, age, employment_status, position, institute_service, role_service]\n",
       "Index: []\n",
       "\n",
       "[0 rows x 23 columns]"
      ]
     },
     "execution_count": 35,
     "metadata": {},
     "output_type": "execute_result"
    }
   ],
   "source": [
    "tafe_resignations[tafe_resignations['Contributing Factors. Dissatisfaction'] == 'Contributing Factors. Dissatisfaction']"
   ]
  },
  {
   "cell_type": "markdown",
   "id": "4fdc8cf5-d84d-46b6-b7e8-a04cbb868706",
   "metadata": {},
   "source": [
    "We can see above that there are some trailing whitespace characters in our column names! Lbet's take care of that. "
   ]
  },
  {
   "cell_type": "code",
   "execution_count": 36,
   "id": "9780bc31-1850-42fe-a423-a79b9fc59d23",
   "metadata": {},
   "outputs": [],
   "source": [
    "# remove leading or trailing whitespace characters\n",
    "tafe_resignations.columns = tafe_resignations.columns.str.strip()"
   ]
  },
  {
   "cell_type": "markdown",
   "id": "027527fb-e555-4dbe-82b4-7871ac72afea",
   "metadata": {},
   "source": [
    "Let's take a look at `value_counts` to see how many affirmative answers we have for our indicative columns"
   ]
  },
  {
   "cell_type": "code",
   "execution_count": 37,
   "id": "e61c02bb-6bc1-4d40-8e12-d8e2f55d7f24",
   "metadata": {},
   "outputs": [
    {
     "data": {
      "text/plain": [
       "-                                         277\n",
       "Contributing Factors. Dissatisfaction      55\n",
       "Name: Contributing Factors. Dissatisfaction, dtype: int64"
      ]
     },
     "execution_count": 37,
     "metadata": {},
     "output_type": "execute_result"
    }
   ],
   "source": [
    "tafe_resignations['Contributing Factors. Dissatisfaction'].value_counts()"
   ]
  },
  {
   "cell_type": "code",
   "execution_count": 38,
   "id": "fcb6e6b0-ee6e-4982-9ada-e6fdd1eb7c5e",
   "metadata": {},
   "outputs": [
    {
     "data": {
      "text/plain": [
       "-                      270\n",
       "Job Dissatisfaction     62\n",
       "Name: Contributing Factors. Job Dissatisfaction, dtype: int64"
      ]
     },
     "execution_count": 38,
     "metadata": {},
     "output_type": "execute_result"
    }
   ],
   "source": [
    "tafe_resignations['Contributing Factors. Job Dissatisfaction'].value_counts()"
   ]
  },
  {
   "cell_type": "code",
   "execution_count": 39,
   "id": "f7aca651-a22b-4402-a724-ac8319686656",
   "metadata": {},
   "outputs": [
    {
     "data": {
      "text/plain": [
       "-                         308\n",
       "Interpersonal Conflict     24\n",
       "Name: Contributing Factors. Interpersonal Conflict, dtype: int64"
      ]
     },
     "execution_count": 39,
     "metadata": {},
     "output_type": "execute_result"
    }
   ],
   "source": [
    "tafe_resignations['Contributing Factors. Interpersonal Conflict'].value_counts()"
   ]
  },
  {
   "cell_type": "markdown",
   "id": "25d8ff22-c642-429f-89a2-2a072b941382",
   "metadata": {},
   "source": [
    "Next we will create a function`update_vals` that will update our columns to `True`, `False` or `NaN`."
   ]
  },
  {
   "cell_type": "code",
   "execution_count": 40,
   "id": "d47e0980-4398-4022-99cb-4c4595a79e3d",
   "metadata": {},
   "outputs": [],
   "source": [
    "# updates our indicative columns to True, False, or NaN\n",
    "def update_vals(value):\n",
    "    if pd.isnull(value):\n",
    "        return np.nan\n",
    "    elif value == '-':\n",
    "        return False\n",
    "    else:\n",
    "        return True\n"
   ]
  },
  {
   "cell_type": "code",
   "execution_count": 41,
   "id": "2654399c-b7a4-466b-ac72-f886c055b97b",
   "metadata": {},
   "outputs": [],
   "source": [
    "# all our dissatisfaction indicator columns\n",
    "tafe_factors = ['Contributing Factors. Dissatisfaction',\n",
    "                'Contributing Factors. Job Dissatisfaction',\n",
    "                'Contributing Factors. Interpersonal Conflict'\n",
    "               ]"
   ]
  },
  {
   "cell_type": "code",
   "execution_count": 42,
   "id": "6a79196f-a64b-4e76-bea0-7dc56fb53a6c",
   "metadata": {},
   "outputs": [],
   "source": [
    "# apply updated values to all columns\n",
    "tafe_resignations[tafe_factors] = tafe_resignations[tafe_factors].applymap(update_vals)"
   ]
  },
  {
   "cell_type": "markdown",
   "id": "2d4083a6-afa3-4ae7-bece-b22a4ac1ea82",
   "metadata": {},
   "source": [
    "Next we will add a `True` value to our dissatisfaction column if any of the `tafe_factor` columns have a `True` value."
   ]
  },
  {
   "cell_type": "code",
   "execution_count": 43,
   "id": "114b6ed8-9721-43d9-8063-016f99919ba4",
   "metadata": {},
   "outputs": [],
   "source": [
    "tafe_resignations['dissatisfied'] = tafe_resignations[tafe_factors].any(axis=1,skipna=False)"
   ]
  },
  {
   "cell_type": "code",
   "execution_count": 44,
   "id": "b7e3f334-d85c-4cb7-9df5-9d3a09f35e83",
   "metadata": {},
   "outputs": [],
   "source": [
    "tafe_resignations_up = tafe_resignations.copy()"
   ]
  },
  {
   "cell_type": "markdown",
   "id": "69722851-13c2-49a6-b2f0-587cf2b9706d",
   "metadata": {},
   "source": [
    "We will now follow the same process for our `dete_resignations` dataframe, converting all column values to `True` `False` or `Nan`, and creating a new column, `dissatisfaction`"
   ]
  },
  {
   "cell_type": "code",
   "execution_count": 45,
   "id": "4ce7b3b5-fc39-4bd8-9459-50c13d47a86f",
   "metadata": {},
   "outputs": [],
   "source": [
    "# all our dissatisfaction indicator columns\n",
    "dete_factors = ['job_dissatisfaction',\n",
    "                'dissatisfaction_with_the_department',\n",
    "                'physical_work_environment',\n",
    "                'lack_of_recognition',\n",
    "                'lack_of_job_security',\n",
    "                'work_location',\n",
    "                'employment_conditions',\n",
    "                'work_life_balance',\n",
    "                'workload'\n",
    "               ]\n",
    "\n",
    "\n"
   ]
  },
  {
   "cell_type": "code",
   "execution_count": 46,
   "id": "32e514b1-2be1-4b55-8613-899e99541cce",
   "metadata": {},
   "outputs": [],
   "source": [
    "# assign True value if any of the factor columns are True\n",
    "dete_resignations['dissatisfied'] = dete_resignations[dete_factors].any(axis=1,skipna=False)"
   ]
  },
  {
   "cell_type": "code",
   "execution_count": 47,
   "id": "67e40326-8703-491e-a90f-6f9e9a3eef2f",
   "metadata": {},
   "outputs": [],
   "source": [
    "dete_resignations_up = dete_resignations.copy()"
   ]
  },
  {
   "cell_type": "code",
   "execution_count": 48,
   "id": "defffd97-9889-4153-a365-3116f417581c",
   "metadata": {},
   "outputs": [
    {
     "data": {
      "text/plain": [
       "3      False\n",
       "5       True\n",
       "8      False\n",
       "9       True\n",
       "11     False\n",
       "       ...  \n",
       "808    False\n",
       "815    False\n",
       "816    False\n",
       "819     True\n",
       "821    False\n",
       "Name: dissatisfied, Length: 311, dtype: bool"
      ]
     },
     "execution_count": 48,
     "metadata": {},
     "output_type": "execute_result"
    }
   ],
   "source": [
    "dete_resignations['dissatisfied']"
   ]
  },
  {
   "cell_type": "markdown",
   "id": "11baba4f-9ef2-4d41-8c2e-13c237275f79",
   "metadata": {},
   "source": [
    "So far we've:\n",
    "\n",
    "- Cleaned our columns names\n",
    "- Dropped any data not needed for our analysis \n",
    "- Verified the quality of our data\n",
    "- Created new columns for time employed (`institute_service`)\n",
    "- Cleaned the `Contributing Factors` column\n",
    "- Created the `dissatisfaction` column to indicate if an employee resigned due to dissatisfaction"
   ]
  },
  {
   "cell_type": "markdown",
   "id": "f5f6e199-5bf6-470d-9b9c-ac603240afd0",
   "metadata": {},
   "source": [
    "### Combining our Datasets"
   ]
  },
  {
   "cell_type": "markdown",
   "id": "3bd49c88-05f5-4096-8c14-8bdad76dcde2",
   "metadata": {},
   "source": [
    "Before combining let's add a column,`institute` to our dataset that will allow us to easily distinguish the difference. "
   ]
  },
  {
   "cell_type": "code",
   "execution_count": 49,
   "id": "899ee328-9a72-4c91-aeae-2057a58f6e41",
   "metadata": {},
   "outputs": [],
   "source": [
    "dete_resignations_up['institute'] = 'DETE'"
   ]
  },
  {
   "cell_type": "code",
   "execution_count": 50,
   "id": "f5f93133-74ed-404e-91b8-a42b80bc5ddd",
   "metadata": {},
   "outputs": [],
   "source": [
    "tafe_resignations_up['institute'] = 'TAFE'"
   ]
  },
  {
   "cell_type": "code",
   "execution_count": 51,
   "id": "de9aa285-b636-4c16-a517-b112a2e4c29a",
   "metadata": {},
   "outputs": [],
   "source": [
    "combined = pd.concat([dete_resignations_up, tafe_resignations_up], axis=0)\n"
   ]
  },
  {
   "cell_type": "code",
   "execution_count": 52,
   "id": "1b8b728c-0a7c-4320-8b9f-1cc91ad9095c",
   "metadata": {},
   "outputs": [
    {
     "data": {
      "text/plain": [
       "651"
      ]
     },
     "execution_count": 52,
     "metadata": {},
     "output_type": "execute_result"
    }
   ],
   "source": [
    "combined['dissatisfied'].notnull().sum()"
   ]
  },
  {
   "cell_type": "code",
   "execution_count": 53,
   "id": "96f1e635-c936-4f75-800f-aa3a608d0409",
   "metadata": {},
   "outputs": [],
   "source": [
    "# drop any columns with less than 500 non-null values\n",
    "combined_updated = combined.dropna(axis=1,thresh=340).copy()"
   ]
  },
  {
   "cell_type": "code",
   "execution_count": 54,
   "id": "07648edd-9e94-4bc4-9132-1ac8d2e16da2",
   "metadata": {},
   "outputs": [
    {
     "data": {
      "text/plain": [
       "Index(['id', 'separationtype', 'cease_date', 'position', 'employment_status',\n",
       "       'age', 'institute_service', 'dissatisfied', 'institute', 'Institute',\n",
       "       'WorkArea'],\n",
       "      dtype='object')"
      ]
     },
     "execution_count": 54,
     "metadata": {},
     "output_type": "execute_result"
    }
   ],
   "source": [
    "combined_updated.columns"
   ]
  },
  {
   "cell_type": "markdown",
   "id": "9cbf7091-e742-4800-a988-647fdb31c8d4",
   "metadata": {},
   "source": [
    "As we said in the beginning, most of the columns are not germane to our primary aim of analyzing employee dissatisfaction in regards to length of employment. We can drop any columns with less than 500 non-null values without impacting our analysis goals. "
   ]
  },
  {
   "cell_type": "markdown",
   "id": "2b04878d-b42d-4614-ae4b-834b9fffc6a3",
   "metadata": {},
   "source": [
    "### Analyzing Our Data"
   ]
  },
  {
   "cell_type": "markdown",
   "id": "a3434be6-bf43-47f2-8a99-ebe0bba4b7fe",
   "metadata": {},
   "source": [
    "As we see here, our data is now in many different forms. In order to analyze our data, we will convert these numbers to *categories*. Our logic, in part, is based on [this article](https://www.businesswire.com/news/home/20171108006002/en/Age-Number-Engage-Employees-Career-Stage) which makes the argument that understanding employee's needs according to career stage is more effective than according to age. "
   ]
  },
  {
   "cell_type": "markdown",
   "id": "7deea09a-edfa-418b-993b-4265b1a0a7be",
   "metadata": {},
   "source": [
    "We will use the following definitions to categorize our `institute_service` column:\n",
    "- `New`: Less than 3 years at a company \n",
    "- `Experienced`: 3-6 years at a company\n",
    "- `Established`: 7-10 years at a company\n",
    "- `Veteran`: 11 or more years at a company\n",
    "   "
   ]
  },
  {
   "cell_type": "code",
   "execution_count": 55,
   "id": "990ad07f-f483-4cd2-b820-96d17e98d05a",
   "metadata": {},
   "outputs": [
    {
     "data": {
      "text/plain": [
       "Less than 1 year      73\n",
       "1-2                   64\n",
       "3-4                   63\n",
       "5-6                   33\n",
       "11-20                 26\n",
       "5.0                   23\n",
       "1.0                   22\n",
       "7-10                  21\n",
       "3.0                   20\n",
       "0.0                   20\n",
       "6.0                   17\n",
       "4.0                   16\n",
       "9.0                   14\n",
       "2.0                   14\n",
       "7.0                   13\n",
       "More than 20 years    10\n",
       "13.0                   8\n",
       "8.0                    8\n",
       "15.0                   7\n",
       "20.0                   7\n",
       "10.0                   6\n",
       "14.0                   6\n",
       "12.0                   6\n",
       "17.0                   6\n",
       "22.0                   6\n",
       "18.0                   5\n",
       "16.0                   5\n",
       "11.0                   4\n",
       "23.0                   4\n",
       "24.0                   4\n",
       "32.0                   3\n",
       "39.0                   3\n",
       "19.0                   3\n",
       "21.0                   3\n",
       "36.0                   2\n",
       "25.0                   2\n",
       "30.0                   2\n",
       "26.0                   2\n",
       "28.0                   2\n",
       "49.0                   1\n",
       "41.0                   1\n",
       "27.0                   1\n",
       "42.0                   1\n",
       "29.0                   1\n",
       "34.0                   1\n",
       "31.0                   1\n",
       "33.0                   1\n",
       "35.0                   1\n",
       "38.0                   1\n",
       "Name: institute_service, dtype: int64"
      ]
     },
     "execution_count": 55,
     "metadata": {},
     "output_type": "execute_result"
    }
   ],
   "source": [
    "combined_updated['institute_service'].value_counts()"
   ]
  },
  {
   "cell_type": "code",
   "execution_count": 56,
   "id": "0c6af29a-2fc3-4d99-b597-d7d3193cf65f",
   "metadata": {},
   "outputs": [],
   "source": [
    "def transform_service(value):\n",
    "    \n",
    "    # if null, return NaN\n",
    "    if pd.isnull(value):\n",
    "        return np.nan\n",
    "    # convert to string value, just in case\n",
    "    string_value = str(value)\n",
    "    if string_value == 'Less than 1 year':\n",
    "        return 'New'\n",
    "    elif string_value == 'More than 20 years':\n",
    "        return 'Veteran'\n",
    "    \n",
    "    # if there's a range, take the lower number \n",
    "    if '-' in string_value:\n",
    "        string_value = string_value.split('-')                             \n",
    "        string_value = float(string_value[0])\n",
    "\n",
    "    string_value = float(string_value)\n",
    "   \n",
    "    if string_value < 3:\n",
    "        return 'New'\n",
    "    elif 3 <= string_value <= 6:\n",
    "        return 'Experienced'\n",
    "    elif 7 <= string_value <= 10:\n",
    "        return 'Established'\n",
    "    elif string_value >= 11:\n",
    "        return 'Veteran'\n",
    "\n",
    "    "
   ]
  },
  {
   "cell_type": "markdown",
   "id": "a10b5332-f51b-443d-826e-7486c2234db9",
   "metadata": {},
   "source": [
    "Let's now apply our `transform_service` function across our `institute_service` column and assign to a new column, `service_cat`."
   ]
  },
  {
   "cell_type": "code",
   "execution_count": 57,
   "id": "484f2dda-6687-4beb-92c3-d57ee6a2efaa",
   "metadata": {},
   "outputs": [],
   "source": [
    "combined_updated['service_cat'] = combined_updated['institute_service'].apply(transform_service)"
   ]
  },
  {
   "cell_type": "markdown",
   "id": "0cf132c4-faef-4e16-970d-478cdd2d535e",
   "metadata": {},
   "source": [
    "We now have our categorical data ready for analysis!"
   ]
  },
  {
   "cell_type": "code",
   "execution_count": 58,
   "id": "00b1c787-2e13-4c92-81c7-7d33b619815a",
   "metadata": {},
   "outputs": [
    {
     "data": {
      "text/plain": [
       "3      Established\n",
       "5          Veteran\n",
       "8      Experienced\n",
       "9          Veteran\n",
       "11     Experienced\n",
       "          ...     \n",
       "696    Experienced\n",
       "697            New\n",
       "698            NaN\n",
       "699    Experienced\n",
       "701    Experienced\n",
       "Name: service_cat, Length: 651, dtype: object"
      ]
     },
     "execution_count": 58,
     "metadata": {},
     "output_type": "execute_result"
    }
   ],
   "source": [
    "combined_updated['service_cat']"
   ]
  },
  {
   "cell_type": "code",
   "execution_count": 59,
   "id": "7a567892-e19f-41ed-ab7d-7115ceb245cb",
   "metadata": {},
   "outputs": [
    {
     "data": {
      "text/html": [
       "<div>\n",
       "<style scoped>\n",
       "    .dataframe tbody tr th:only-of-type {\n",
       "        vertical-align: middle;\n",
       "    }\n",
       "\n",
       "    .dataframe tbody tr th {\n",
       "        vertical-align: top;\n",
       "    }\n",
       "\n",
       "    .dataframe thead th {\n",
       "        text-align: right;\n",
       "    }\n",
       "</style>\n",
       "<table border=\"1\" class=\"dataframe\">\n",
       "  <thead>\n",
       "    <tr style=\"text-align: right;\">\n",
       "      <th></th>\n",
       "      <th>id</th>\n",
       "      <th>separationtype</th>\n",
       "      <th>cease_date</th>\n",
       "      <th>position</th>\n",
       "      <th>employment_status</th>\n",
       "      <th>age</th>\n",
       "      <th>institute_service</th>\n",
       "      <th>dissatisfied</th>\n",
       "      <th>institute</th>\n",
       "      <th>Institute</th>\n",
       "      <th>WorkArea</th>\n",
       "      <th>service_cat</th>\n",
       "    </tr>\n",
       "  </thead>\n",
       "  <tbody>\n",
       "    <tr>\n",
       "      <th>3</th>\n",
       "      <td>4.0</td>\n",
       "      <td>Resignation-Other reasons</td>\n",
       "      <td>2012.0</td>\n",
       "      <td>Teacher</td>\n",
       "      <td>Permanent Full-time</td>\n",
       "      <td>36-40</td>\n",
       "      <td>7.0</td>\n",
       "      <td>False</td>\n",
       "      <td>DETE</td>\n",
       "      <td>NaN</td>\n",
       "      <td>NaN</td>\n",
       "      <td>Established</td>\n",
       "    </tr>\n",
       "    <tr>\n",
       "      <th>5</th>\n",
       "      <td>6.0</td>\n",
       "      <td>Resignation-Other reasons</td>\n",
       "      <td>2012.0</td>\n",
       "      <td>Guidance Officer</td>\n",
       "      <td>Permanent Full-time</td>\n",
       "      <td>41-45</td>\n",
       "      <td>18.0</td>\n",
       "      <td>True</td>\n",
       "      <td>DETE</td>\n",
       "      <td>NaN</td>\n",
       "      <td>NaN</td>\n",
       "      <td>Veteran</td>\n",
       "    </tr>\n",
       "    <tr>\n",
       "      <th>8</th>\n",
       "      <td>9.0</td>\n",
       "      <td>Resignation-Other reasons</td>\n",
       "      <td>2012.0</td>\n",
       "      <td>Teacher</td>\n",
       "      <td>Permanent Full-time</td>\n",
       "      <td>31-35</td>\n",
       "      <td>3.0</td>\n",
       "      <td>False</td>\n",
       "      <td>DETE</td>\n",
       "      <td>NaN</td>\n",
       "      <td>NaN</td>\n",
       "      <td>Experienced</td>\n",
       "    </tr>\n",
       "    <tr>\n",
       "      <th>9</th>\n",
       "      <td>10.0</td>\n",
       "      <td>Resignation-Other employer</td>\n",
       "      <td>2012.0</td>\n",
       "      <td>Teacher Aide</td>\n",
       "      <td>Permanent Part-time</td>\n",
       "      <td>46-50</td>\n",
       "      <td>15.0</td>\n",
       "      <td>True</td>\n",
       "      <td>DETE</td>\n",
       "      <td>NaN</td>\n",
       "      <td>NaN</td>\n",
       "      <td>Veteran</td>\n",
       "    </tr>\n",
       "    <tr>\n",
       "      <th>11</th>\n",
       "      <td>12.0</td>\n",
       "      <td>Resignation-Move overseas/interstate</td>\n",
       "      <td>2012.0</td>\n",
       "      <td>Teacher</td>\n",
       "      <td>Permanent Full-time</td>\n",
       "      <td>31-35</td>\n",
       "      <td>3.0</td>\n",
       "      <td>False</td>\n",
       "      <td>DETE</td>\n",
       "      <td>NaN</td>\n",
       "      <td>NaN</td>\n",
       "      <td>Experienced</td>\n",
       "    </tr>\n",
       "  </tbody>\n",
       "</table>\n",
       "</div>"
      ],
      "text/plain": [
       "      id                        separationtype  cease_date          position  \\\n",
       "3    4.0             Resignation-Other reasons      2012.0           Teacher   \n",
       "5    6.0             Resignation-Other reasons      2012.0  Guidance Officer   \n",
       "8    9.0             Resignation-Other reasons      2012.0           Teacher   \n",
       "9   10.0            Resignation-Other employer      2012.0      Teacher Aide   \n",
       "11  12.0  Resignation-Move overseas/interstate      2012.0           Teacher   \n",
       "\n",
       "      employment_status    age institute_service  dissatisfied institute  \\\n",
       "3   Permanent Full-time  36-40               7.0         False      DETE   \n",
       "5   Permanent Full-time  41-45              18.0          True      DETE   \n",
       "8   Permanent Full-time  31-35               3.0         False      DETE   \n",
       "9   Permanent Part-time  46-50              15.0          True      DETE   \n",
       "11  Permanent Full-time  31-35               3.0         False      DETE   \n",
       "\n",
       "   Institute WorkArea  service_cat  \n",
       "3        NaN      NaN  Established  \n",
       "5        NaN      NaN      Veteran  \n",
       "8        NaN      NaN  Experienced  \n",
       "9        NaN      NaN      Veteran  \n",
       "11       NaN      NaN  Experienced  "
      ]
     },
     "execution_count": 59,
     "metadata": {},
     "output_type": "execute_result"
    }
   ],
   "source": [
    "combined_updated.head()"
   ]
  },
  {
   "cell_type": "markdown",
   "id": "ae5cf88b-6258-4046-a2d3-5bae3914c923",
   "metadata": {},
   "source": [
    "Let's now finally drop the `Institute`, `institute_service` and `WorkArea` columns as they are not needed for this analysis. "
   ]
  },
  {
   "cell_type": "code",
   "execution_count": 60,
   "id": "637bc277-5f21-4c5c-bd91-cf7b523cdd3b",
   "metadata": {},
   "outputs": [],
   "source": [
    "combined_updated.drop(columns=['Institute','WorkArea'],inplace=True)"
   ]
  },
  {
   "cell_type": "markdown",
   "id": "142882bd-6a63-4b4d-91f8-526d8cf41ad4",
   "metadata": {},
   "source": [
    "Let's also drop the `institute service` column since we've already created the `service_cat` column for our categorical data."
   ]
  },
  {
   "cell_type": "code",
   "execution_count": 61,
   "id": "9d5620df-4f4d-4353-a81a-bf127fbb4d3c",
   "metadata": {},
   "outputs": [],
   "source": [
    "combined_updated.drop('institute_service',axis=1, inplace=True)"
   ]
  },
  {
   "cell_type": "code",
   "execution_count": 62,
   "id": "73af6607-ab38-41f0-a3a5-387691f86ea0",
   "metadata": {},
   "outputs": [
    {
     "data": {
      "text/html": [
       "<div>\n",
       "<style scoped>\n",
       "    .dataframe tbody tr th:only-of-type {\n",
       "        vertical-align: middle;\n",
       "    }\n",
       "\n",
       "    .dataframe tbody tr th {\n",
       "        vertical-align: top;\n",
       "    }\n",
       "\n",
       "    .dataframe thead th {\n",
       "        text-align: right;\n",
       "    }\n",
       "</style>\n",
       "<table border=\"1\" class=\"dataframe\">\n",
       "  <thead>\n",
       "    <tr style=\"text-align: right;\">\n",
       "      <th></th>\n",
       "      <th>id</th>\n",
       "      <th>separationtype</th>\n",
       "      <th>cease_date</th>\n",
       "      <th>position</th>\n",
       "      <th>employment_status</th>\n",
       "      <th>age</th>\n",
       "      <th>dissatisfied</th>\n",
       "      <th>institute</th>\n",
       "      <th>service_cat</th>\n",
       "    </tr>\n",
       "  </thead>\n",
       "  <tbody>\n",
       "    <tr>\n",
       "      <th>3</th>\n",
       "      <td>4.000000e+00</td>\n",
       "      <td>Resignation-Other reasons</td>\n",
       "      <td>2012.0</td>\n",
       "      <td>Teacher</td>\n",
       "      <td>Permanent Full-time</td>\n",
       "      <td>36-40</td>\n",
       "      <td>False</td>\n",
       "      <td>DETE</td>\n",
       "      <td>Established</td>\n",
       "    </tr>\n",
       "    <tr>\n",
       "      <th>5</th>\n",
       "      <td>6.000000e+00</td>\n",
       "      <td>Resignation-Other reasons</td>\n",
       "      <td>2012.0</td>\n",
       "      <td>Guidance Officer</td>\n",
       "      <td>Permanent Full-time</td>\n",
       "      <td>41-45</td>\n",
       "      <td>True</td>\n",
       "      <td>DETE</td>\n",
       "      <td>Veteran</td>\n",
       "    </tr>\n",
       "    <tr>\n",
       "      <th>8</th>\n",
       "      <td>9.000000e+00</td>\n",
       "      <td>Resignation-Other reasons</td>\n",
       "      <td>2012.0</td>\n",
       "      <td>Teacher</td>\n",
       "      <td>Permanent Full-time</td>\n",
       "      <td>31-35</td>\n",
       "      <td>False</td>\n",
       "      <td>DETE</td>\n",
       "      <td>Experienced</td>\n",
       "    </tr>\n",
       "    <tr>\n",
       "      <th>9</th>\n",
       "      <td>1.000000e+01</td>\n",
       "      <td>Resignation-Other employer</td>\n",
       "      <td>2012.0</td>\n",
       "      <td>Teacher Aide</td>\n",
       "      <td>Permanent Part-time</td>\n",
       "      <td>46-50</td>\n",
       "      <td>True</td>\n",
       "      <td>DETE</td>\n",
       "      <td>Veteran</td>\n",
       "    </tr>\n",
       "    <tr>\n",
       "      <th>11</th>\n",
       "      <td>1.200000e+01</td>\n",
       "      <td>Resignation-Move overseas/interstate</td>\n",
       "      <td>2012.0</td>\n",
       "      <td>Teacher</td>\n",
       "      <td>Permanent Full-time</td>\n",
       "      <td>31-35</td>\n",
       "      <td>False</td>\n",
       "      <td>DETE</td>\n",
       "      <td>Experienced</td>\n",
       "    </tr>\n",
       "    <tr>\n",
       "      <th>...</th>\n",
       "      <td>...</td>\n",
       "      <td>...</td>\n",
       "      <td>...</td>\n",
       "      <td>...</td>\n",
       "      <td>...</td>\n",
       "      <td>...</td>\n",
       "      <td>...</td>\n",
       "      <td>...</td>\n",
       "      <td>...</td>\n",
       "    </tr>\n",
       "    <tr>\n",
       "      <th>696</th>\n",
       "      <td>6.350660e+17</td>\n",
       "      <td>Resignation</td>\n",
       "      <td>2013.0</td>\n",
       "      <td>Operational (OO)</td>\n",
       "      <td>Temporary Full-time</td>\n",
       "      <td>21  25</td>\n",
       "      <td>False</td>\n",
       "      <td>TAFE</td>\n",
       "      <td>Experienced</td>\n",
       "    </tr>\n",
       "    <tr>\n",
       "      <th>697</th>\n",
       "      <td>6.350668e+17</td>\n",
       "      <td>Resignation</td>\n",
       "      <td>2013.0</td>\n",
       "      <td>Teacher (including LVT)</td>\n",
       "      <td>Temporary Full-time</td>\n",
       "      <td>51-55</td>\n",
       "      <td>False</td>\n",
       "      <td>TAFE</td>\n",
       "      <td>New</td>\n",
       "    </tr>\n",
       "    <tr>\n",
       "      <th>698</th>\n",
       "      <td>6.350677e+17</td>\n",
       "      <td>Resignation</td>\n",
       "      <td>2013.0</td>\n",
       "      <td>NaN</td>\n",
       "      <td>NaN</td>\n",
       "      <td>NaN</td>\n",
       "      <td>False</td>\n",
       "      <td>TAFE</td>\n",
       "      <td>NaN</td>\n",
       "    </tr>\n",
       "    <tr>\n",
       "      <th>699</th>\n",
       "      <td>6.350704e+17</td>\n",
       "      <td>Resignation</td>\n",
       "      <td>2013.0</td>\n",
       "      <td>Teacher (including LVT)</td>\n",
       "      <td>Permanent Full-time</td>\n",
       "      <td>51-55</td>\n",
       "      <td>False</td>\n",
       "      <td>TAFE</td>\n",
       "      <td>Experienced</td>\n",
       "    </tr>\n",
       "    <tr>\n",
       "      <th>701</th>\n",
       "      <td>6.350730e+17</td>\n",
       "      <td>Resignation</td>\n",
       "      <td>2013.0</td>\n",
       "      <td>Administration (AO)</td>\n",
       "      <td>Contract/casual</td>\n",
       "      <td>26  30</td>\n",
       "      <td>False</td>\n",
       "      <td>TAFE</td>\n",
       "      <td>Experienced</td>\n",
       "    </tr>\n",
       "  </tbody>\n",
       "</table>\n",
       "<p>651 rows × 9 columns</p>\n",
       "</div>"
      ],
      "text/plain": [
       "               id                        separationtype  cease_date  \\\n",
       "3    4.000000e+00             Resignation-Other reasons      2012.0   \n",
       "5    6.000000e+00             Resignation-Other reasons      2012.0   \n",
       "8    9.000000e+00             Resignation-Other reasons      2012.0   \n",
       "9    1.000000e+01            Resignation-Other employer      2012.0   \n",
       "11   1.200000e+01  Resignation-Move overseas/interstate      2012.0   \n",
       "..            ...                                   ...         ...   \n",
       "696  6.350660e+17                           Resignation      2013.0   \n",
       "697  6.350668e+17                           Resignation      2013.0   \n",
       "698  6.350677e+17                           Resignation      2013.0   \n",
       "699  6.350704e+17                           Resignation      2013.0   \n",
       "701  6.350730e+17                           Resignation      2013.0   \n",
       "\n",
       "                    position    employment_status     age  dissatisfied  \\\n",
       "3                    Teacher  Permanent Full-time   36-40         False   \n",
       "5           Guidance Officer  Permanent Full-time   41-45          True   \n",
       "8                    Teacher  Permanent Full-time   31-35         False   \n",
       "9               Teacher Aide  Permanent Part-time   46-50          True   \n",
       "11                   Teacher  Permanent Full-time   31-35         False   \n",
       "..                       ...                  ...     ...           ...   \n",
       "696         Operational (OO)  Temporary Full-time  21  25         False   \n",
       "697  Teacher (including LVT)  Temporary Full-time   51-55         False   \n",
       "698                      NaN                  NaN     NaN         False   \n",
       "699  Teacher (including LVT)  Permanent Full-time   51-55         False   \n",
       "701      Administration (AO)      Contract/casual  26  30         False   \n",
       "\n",
       "    institute  service_cat  \n",
       "3        DETE  Established  \n",
       "5        DETE      Veteran  \n",
       "8        DETE  Experienced  \n",
       "9        DETE      Veteran  \n",
       "11       DETE  Experienced  \n",
       "..        ...          ...  \n",
       "696      TAFE  Experienced  \n",
       "697      TAFE          New  \n",
       "698      TAFE          NaN  \n",
       "699      TAFE  Experienced  \n",
       "701      TAFE  Experienced  \n",
       "\n",
       "[651 rows x 9 columns]"
      ]
     },
     "execution_count": 62,
     "metadata": {},
     "output_type": "execute_result"
    }
   ],
   "source": [
    "combined_updated"
   ]
  },
  {
   "cell_type": "code",
   "execution_count": 63,
   "id": "43bb6ac8-2e6f-4fc2-ae88-262b80df569e",
   "metadata": {},
   "outputs": [
    {
     "data": {
      "text/plain": [
       "False    397\n",
       "True     254\n",
       "Name: dissatisfied, dtype: int64"
      ]
     },
     "execution_count": 63,
     "metadata": {},
     "output_type": "execute_result"
    }
   ],
   "source": [
    "combined_updated['dissatisfied'].value_counts(dropna=False)"
   ]
  },
  {
   "cell_type": "code",
   "execution_count": 64,
   "id": "056b62b2-8666-4c8d-8ac3-f2193cc9dd3a",
   "metadata": {},
   "outputs": [],
   "source": [
    "# create pivot table for dissatisfaction percentages\n",
    "combined_pv = combined_updated.pivot_table(index='service_cat',values='dissatisfied')"
   ]
  },
  {
   "cell_type": "code",
   "execution_count": 65,
   "id": "b29696f1-be48-4b3a-b0f6-78185ab9c04e",
   "metadata": {},
   "outputs": [
    {
     "data": {
      "text/html": [
       "<div>\n",
       "<style scoped>\n",
       "    .dataframe tbody tr th:only-of-type {\n",
       "        vertical-align: middle;\n",
       "    }\n",
       "\n",
       "    .dataframe tbody tr th {\n",
       "        vertical-align: top;\n",
       "    }\n",
       "\n",
       "    .dataframe thead th {\n",
       "        text-align: right;\n",
       "    }\n",
       "</style>\n",
       "<table border=\"1\" class=\"dataframe\">\n",
       "  <thead>\n",
       "    <tr style=\"text-align: right;\">\n",
       "      <th></th>\n",
       "      <th>dissatisfied</th>\n",
       "    </tr>\n",
       "    <tr>\n",
       "      <th>service_cat</th>\n",
       "      <th></th>\n",
       "    </tr>\n",
       "  </thead>\n",
       "  <tbody>\n",
       "    <tr>\n",
       "      <th>Established</th>\n",
       "      <td>0.516129</td>\n",
       "    </tr>\n",
       "    <tr>\n",
       "      <th>Experienced</th>\n",
       "      <td>0.354651</td>\n",
       "    </tr>\n",
       "    <tr>\n",
       "      <th>New</th>\n",
       "      <td>0.316062</td>\n",
       "    </tr>\n",
       "    <tr>\n",
       "      <th>Veteran</th>\n",
       "      <td>0.485294</td>\n",
       "    </tr>\n",
       "  </tbody>\n",
       "</table>\n",
       "</div>"
      ],
      "text/plain": [
       "             dissatisfied\n",
       "service_cat              \n",
       "Established      0.516129\n",
       "Experienced      0.354651\n",
       "New              0.316062\n",
       "Veteran          0.485294"
      ]
     },
     "execution_count": 65,
     "metadata": {},
     "output_type": "execute_result"
    }
   ],
   "source": [
    "combined_pv"
   ]
  },
  {
   "cell_type": "markdown",
   "id": "6c771d0e-37c3-45d4-a9a8-40de979870b0",
   "metadata": {},
   "source": [
    "We can already see from our pivot table that employees in the`Established` and `Veteran` stages of their career are more likely to leave due to dissatisfaction. Let's create a visual to display the differences. "
   ]
  },
  {
   "cell_type": "code",
   "execution_count": 126,
   "id": "c601c611-10bb-4904-9395-73fa832017ae",
   "metadata": {},
   "outputs": [
    {
     "data": {
      "image/png": "[encoded data removed]",
      "text/plain": [
       "<Figure size 432x288 with 1 Axes>"
      ]
     },
     "metadata": {
      "needs_background": "light"
     },
     "output_type": "display_data"
    }
   ],
   "source": [
    "combined_pv.plot(kind='bar', legend=False)\n",
    "plt.title('Established and Veteran Employees More Likely to Leave Due to Dissatisfaction',x=.7,y=1.05)\n",
    "plt.ylabel('Dissatisfaction %')\n",
    "plt.xlabel('Career Stage')\n",
    "plt.show()"
   ]
  },
  {
   "cell_type": "markdown",
   "id": "83cf77de-7f97-4f55-90fe-95f11a75da04",
   "metadata": {},
   "source": [
    "From then graph above it appears that **new (less than 3 years) employees are the least likely to resign due to a dissatisfaction.**"
   ]
  },
  {
   "cell_type": "markdown",
   "id": "aac361d6-6b8e-47bd-b95b-f2e1b1bf3acf",
   "metadata": {},
   "source": [
    "### Dealing with Missing Values"
   ]
  },
  {
   "cell_type": "markdown",
   "id": "2948b313-76a4-4d1f-a6af-ebba0cdcd5a3",
   "metadata": {},
   "source": [
    "In our `service_cat` column we still have missing values. Let's first find out how many of our rows with missing values contain `True` in the dissatisfaction column."
   ]
  },
  {
   "cell_type": "code",
   "execution_count": 67,
   "id": "a8e2c9fd-eaaf-4ea7-829a-e87dd9a62fe7",
   "metadata": {},
   "outputs": [
    {
     "data": {
      "text/plain": [
       "(34, 9)"
      ]
     },
     "execution_count": 67,
     "metadata": {},
     "output_type": "execute_result"
    }
   ],
   "source": [
    "combined_updated[(combined_updated['service_cat'].isnull()) & combined_updated['dissatisfied'] == True].shape"
   ]
  },
  {
   "cell_type": "markdown",
   "id": "0db57f4e-df5e-450d-9fe9-362de50c5d96",
   "metadata": {},
   "source": [
    "There are only 34 of 651 employees who resigned due to a dissatifaction, but have missing values for the `service_cat` column. We must figure out how we should deal with those missing values. We can either ignore them and drop the null rows, or fill them. Let's look at the distribution of values in our `service_cat` column."
   ]
  },
  {
   "cell_type": "code",
   "execution_count": 68,
   "id": "673429de-a2f3-42df-bed4-55f1fe46f8c6",
   "metadata": {},
   "outputs": [
    {
     "data": {
      "text/plain": [
       "New            0.342806\n",
       "Experienced    0.305506\n",
       "Veteran        0.241563\n",
       "Established    0.110124\n",
       "Name: service_cat, dtype: float64"
      ]
     },
     "execution_count": 68,
     "metadata": {},
     "output_type": "execute_result"
    }
   ],
   "source": [
    "combined_updated['service_cat'].value_counts(normalize=True)"
   ]
  },
  {
   "cell_type": "markdown",
   "id": "ab062835-46d7-487c-91f8-a66161e25ba5",
   "metadata": {},
   "source": [
    "Since 34 employees will not fundamentally change the results of our analysis, we will  make the decision to drop these columns. "
   ]
  },
  {
   "cell_type": "code",
   "execution_count": 69,
   "id": "2b102ade-031b-43a1-9a94-a87c231c1fa6",
   "metadata": {},
   "outputs": [],
   "source": [
    "combined_updated.dropna(subset=['service_cat'],inplace=True)"
   ]
  },
  {
   "cell_type": "code",
   "execution_count": 70,
   "id": "39a2c8cd-6307-4bd6-983a-c8a96a7f7b0b",
   "metadata": {},
   "outputs": [
    {
     "data": {
      "text/plain": [
       "New            193\n",
       "Experienced    172\n",
       "Veteran        136\n",
       "Established     62\n",
       "Name: service_cat, dtype: int64"
      ]
     },
     "execution_count": 70,
     "metadata": {},
     "output_type": "execute_result"
    }
   ],
   "source": [
    "combined_updated['service_cat'].value_counts(dropna=False)"
   ]
  },
  {
   "cell_type": "markdown",
   "id": "cf61af53-8a33-4207-9463-a49056d0517f",
   "metadata": {},
   "source": [
    "### Analysis Based on Age"
   ]
  },
  {
   "cell_type": "markdown",
   "id": "2bf143c0-739d-4687-b760-5c8e59da346d",
   "metadata": {},
   "source": [
    "We now need to find out if younger employees are resigning due to some kind of dissatisfaction. We also need to do the same for older employees. We will start with cleaning our age column, dealing with our missing values and find out how many resigned in each age group. "
   ]
  },
  {
   "cell_type": "code",
   "execution_count": 71,
   "id": "0ae4893b-a438-445a-bb73-58b510f06e19",
   "metadata": {},
   "outputs": [
    {
     "data": {
      "text/html": [
       "<div>\n",
       "<style scoped>\n",
       "    .dataframe tbody tr th:only-of-type {\n",
       "        vertical-align: middle;\n",
       "    }\n",
       "\n",
       "    .dataframe tbody tr th {\n",
       "        vertical-align: top;\n",
       "    }\n",
       "\n",
       "    .dataframe thead th {\n",
       "        text-align: right;\n",
       "    }\n",
       "</style>\n",
       "<table border=\"1\" class=\"dataframe\">\n",
       "  <thead>\n",
       "    <tr style=\"text-align: right;\">\n",
       "      <th></th>\n",
       "      <th>id</th>\n",
       "      <th>separationtype</th>\n",
       "      <th>cease_date</th>\n",
       "      <th>position</th>\n",
       "      <th>employment_status</th>\n",
       "      <th>age</th>\n",
       "      <th>dissatisfied</th>\n",
       "      <th>institute</th>\n",
       "      <th>service_cat</th>\n",
       "    </tr>\n",
       "  </thead>\n",
       "  <tbody>\n",
       "    <tr>\n",
       "      <th>3</th>\n",
       "      <td>4.0</td>\n",
       "      <td>Resignation-Other reasons</td>\n",
       "      <td>2012.0</td>\n",
       "      <td>Teacher</td>\n",
       "      <td>Permanent Full-time</td>\n",
       "      <td>36-40</td>\n",
       "      <td>False</td>\n",
       "      <td>DETE</td>\n",
       "      <td>Established</td>\n",
       "    </tr>\n",
       "    <tr>\n",
       "      <th>5</th>\n",
       "      <td>6.0</td>\n",
       "      <td>Resignation-Other reasons</td>\n",
       "      <td>2012.0</td>\n",
       "      <td>Guidance Officer</td>\n",
       "      <td>Permanent Full-time</td>\n",
       "      <td>41-45</td>\n",
       "      <td>True</td>\n",
       "      <td>DETE</td>\n",
       "      <td>Veteran</td>\n",
       "    </tr>\n",
       "    <tr>\n",
       "      <th>8</th>\n",
       "      <td>9.0</td>\n",
       "      <td>Resignation-Other reasons</td>\n",
       "      <td>2012.0</td>\n",
       "      <td>Teacher</td>\n",
       "      <td>Permanent Full-time</td>\n",
       "      <td>31-35</td>\n",
       "      <td>False</td>\n",
       "      <td>DETE</td>\n",
       "      <td>Experienced</td>\n",
       "    </tr>\n",
       "  </tbody>\n",
       "</table>\n",
       "</div>"
      ],
      "text/plain": [
       "    id             separationtype  cease_date          position  \\\n",
       "3  4.0  Resignation-Other reasons      2012.0           Teacher   \n",
       "5  6.0  Resignation-Other reasons      2012.0  Guidance Officer   \n",
       "8  9.0  Resignation-Other reasons      2012.0           Teacher   \n",
       "\n",
       "     employment_status    age  dissatisfied institute  service_cat  \n",
       "3  Permanent Full-time  36-40         False      DETE  Established  \n",
       "5  Permanent Full-time  41-45          True      DETE      Veteran  \n",
       "8  Permanent Full-time  31-35         False      DETE  Experienced  "
      ]
     },
     "execution_count": 71,
     "metadata": {},
     "output_type": "execute_result"
    }
   ],
   "source": [
    "combined_updated.head(3)"
   ]
  },
  {
   "cell_type": "code",
   "execution_count": 72,
   "id": "50a52984-f9b4-4cf7-a3c6-a59ed891ea35",
   "metadata": {},
   "outputs": [
    {
     "data": {
      "text/plain": [
       "51-55            69\n",
       "41  45           45\n",
       "41-45            44\n",
       "46  50           39\n",
       "36-40            36\n",
       "46-50            34\n",
       "21  25           33\n",
       "31  35           32\n",
       "36  40           32\n",
       "26  30           32\n",
       "26-30            31\n",
       "56 or older      29\n",
       "31-35            29\n",
       "21-25            26\n",
       "56-60            22\n",
       "61 or older      18\n",
       "20 or younger    10\n",
       "Name: age, dtype: int64"
      ]
     },
     "execution_count": 72,
     "metadata": {},
     "output_type": "execute_result"
    }
   ],
   "source": [
    "combined_updated['age'].value_counts()"
   ]
  },
  {
   "cell_type": "markdown",
   "id": "1c37d3aa-37ea-4240-91ac-cee36fceb64d",
   "metadata": {},
   "source": [
    "We can create a function to quickly standardize our `age`column. "
   ]
  },
  {
   "cell_type": "code",
   "execution_count": 73,
   "id": "824d4769-ee26-4520-8031-a022ec5c10e4",
   "metadata": {},
   "outputs": [],
   "source": [
    "import re\n",
    "def clean_age(age):\n",
    "    if pd.isnull(age):\n",
    "        return np.nan\n",
    "    age = str(age)\n",
    "    # remove trailing/leading whitespace\n",
    "    age = age.strip()\n",
    "    # replace multiple whitespace with single\n",
    "    age = re.sub(r\"\\s+\", ' ',age)\n",
    "    # insert '-'\n",
    "    age = re.sub(r\"\\s\",'-',age)\n",
    "    return age\n",
    "    "
   ]
  },
  {
   "cell_type": "code",
   "execution_count": 74,
   "id": "fd082e51-3605-4f5a-9ecb-34c6e8abb23c",
   "metadata": {},
   "outputs": [],
   "source": [
    "combined_updated['age'] = combined_updated['age'].apply(clean_age)"
   ]
  },
  {
   "cell_type": "code",
   "execution_count": 75,
   "id": "191302dd-5309-49fd-8b8f-eb007d790636",
   "metadata": {},
   "outputs": [
    {
     "data": {
      "text/plain": [
       "41-45            89\n",
       "46-50            73\n",
       "51-55            69\n",
       "36-40            68\n",
       "26-30            63\n",
       "31-35            61\n",
       "21-25            59\n",
       "56-or-older      29\n",
       "56-60            22\n",
       "61-or-older      18\n",
       "20-or-younger    10\n",
       "Name: age, dtype: int64"
      ]
     },
     "execution_count": 75,
     "metadata": {},
     "output_type": "execute_result"
    }
   ],
   "source": [
    "combined_updated['age'].value_counts()"
   ]
  },
  {
   "cell_type": "markdown",
   "id": "9f123784-8b74-422f-9288-1a2cc7b05eab",
   "metadata": {},
   "source": [
    "Our formatting is now clean. The `56-or-older`, `56-60` and `61-or-older` columns can be consolidated into one value: `56 or older`. We will replace these values, below. "
   ]
  },
  {
   "cell_type": "code",
   "execution_count": 90,
   "id": "b04d921b-aaf5-4e1f-bcd0-703257d3ec15",
   "metadata": {},
   "outputs": [],
   "source": [
    "# consolidate age categories \n",
    "age_categories = {\n",
    "    '56-or-older' : '51-or-older',\n",
    "    '56-60': '51-or-older',\n",
    "    '61-or-older': '51-or-older',\n",
    "    '51-55': '51-or-older',\n",
    "}\n",
    "\n",
    "    "
   ]
  },
  {
   "cell_type": "code",
   "execution_count": 91,
   "id": "0962248b-d5b4-4139-9d4e-da04aa5dd239",
   "metadata": {},
   "outputs": [],
   "source": [
    "combined_updated['age'] = combined_updated['age'].replace(age_categories)"
   ]
  },
  {
   "cell_type": "code",
   "execution_count": 92,
   "id": "77307e03-1fd6-4d54-a925-19b5adb781ef",
   "metadata": {},
   "outputs": [
    {
     "data": {
      "text/plain": [
       "0"
      ]
     },
     "execution_count": 92,
     "metadata": {},
     "output_type": "execute_result"
    }
   ],
   "source": [
    "combined_updated['age'].isnull().sum()"
   ]
  },
  {
   "cell_type": "markdown",
   "id": "f932cafa-7ffc-49eb-874a-b9e08a68343e",
   "metadata": {},
   "source": [
    "There are also two `NaN` values to handle. Dropping these rows won't impact our analysis in any significant manner. "
   ]
  },
  {
   "cell_type": "code",
   "execution_count": 93,
   "id": "9c0b0c8c-ed3e-4a58-b509-093e09ffeb64",
   "metadata": {},
   "outputs": [],
   "source": [
    "combined_updated.dropna(subset=['age'], inplace=True)"
   ]
  },
  {
   "cell_type": "code",
   "execution_count": 94,
   "id": "88e7e604-a0b2-4762-aba7-6c0f1ea9abb5",
   "metadata": {},
   "outputs": [
    {
     "data": {
      "text/plain": [
       "51-or-older      138\n",
       "41-45             89\n",
       "46-50             73\n",
       "36-40             68\n",
       "26-30             63\n",
       "31-35             61\n",
       "21-25             59\n",
       "20-or-younger     10\n",
       "Name: age, dtype: int64"
      ]
     },
     "execution_count": 94,
     "metadata": {},
     "output_type": "execute_result"
    }
   ],
   "source": [
    "combined_updated['age'].value_counts(dropna=False)"
   ]
  },
  {
   "cell_type": "markdown",
   "id": "ee952fae-54f6-4112-bd82-6b343b95a099",
   "metadata": {},
   "source": [
    "Let's now look create a pivot table for our age column and look at the `dissatisfaction` column for each category."
   ]
  },
  {
   "cell_type": "code",
   "execution_count": 101,
   "id": "c44294ca-727e-4f55-823c-590925b903b6",
   "metadata": {},
   "outputs": [],
   "source": [
    "age_dissatisfied_pv = combined_updated.pivot_table(index='age',values='dissatisfied')"
   ]
  },
  {
   "cell_type": "code",
   "execution_count": 102,
   "id": "3daea72d-7d33-4784-b4e2-8f768b5c2328",
   "metadata": {},
   "outputs": [
    {
     "data": {
      "text/html": [
       "<div>\n",
       "<style scoped>\n",
       "    .dataframe tbody tr th:only-of-type {\n",
       "        vertical-align: middle;\n",
       "    }\n",
       "\n",
       "    .dataframe tbody tr th {\n",
       "        vertical-align: top;\n",
       "    }\n",
       "\n",
       "    .dataframe thead th {\n",
       "        text-align: right;\n",
       "    }\n",
       "</style>\n",
       "<table border=\"1\" class=\"dataframe\">\n",
       "  <thead>\n",
       "    <tr style=\"text-align: right;\">\n",
       "      <th></th>\n",
       "      <th>dissatisfied</th>\n",
       "    </tr>\n",
       "    <tr>\n",
       "      <th>age</th>\n",
       "      <th></th>\n",
       "    </tr>\n",
       "  </thead>\n",
       "  <tbody>\n",
       "    <tr>\n",
       "      <th>20-or-younger</th>\n",
       "      <td>0.300000</td>\n",
       "    </tr>\n",
       "    <tr>\n",
       "      <th>21-25</th>\n",
       "      <td>0.288136</td>\n",
       "    </tr>\n",
       "    <tr>\n",
       "      <th>26-30</th>\n",
       "      <td>0.412698</td>\n",
       "    </tr>\n",
       "    <tr>\n",
       "      <th>31-35</th>\n",
       "      <td>0.393443</td>\n",
       "    </tr>\n",
       "    <tr>\n",
       "      <th>36-40</th>\n",
       "      <td>0.382353</td>\n",
       "    </tr>\n",
       "    <tr>\n",
       "      <th>41-45</th>\n",
       "      <td>0.393258</td>\n",
       "    </tr>\n",
       "    <tr>\n",
       "      <th>46-50</th>\n",
       "      <td>0.397260</td>\n",
       "    </tr>\n",
       "    <tr>\n",
       "      <th>51-or-older</th>\n",
       "      <td>0.434783</td>\n",
       "    </tr>\n",
       "  </tbody>\n",
       "</table>\n",
       "</div>"
      ],
      "text/plain": [
       "               dissatisfied\n",
       "age                        \n",
       "20-or-younger      0.300000\n",
       "21-25              0.288136\n",
       "26-30              0.412698\n",
       "31-35              0.393443\n",
       "36-40              0.382353\n",
       "41-45              0.393258\n",
       "46-50              0.397260\n",
       "51-or-older        0.434783"
      ]
     },
     "execution_count": 102,
     "metadata": {},
     "output_type": "execute_result"
    }
   ],
   "source": [
    "age_dissatisfied_pv"
   ]
  },
  {
   "cell_type": "code",
   "execution_count": 96,
   "id": "759ad576-632c-482d-beb4-59ade41f4d76",
   "metadata": {},
   "outputs": [],
   "source": [
    "age_dissatisfied_pv = age_dissatisfied_pv['dissatisfied'].sort_values(ascending=False)"
   ]
  },
  {
   "cell_type": "markdown",
   "id": "2f89651f-d7a0-4d89-8162-95ad53bd3b12",
   "metadata": {},
   "source": [
    "Let's plot our values."
   ]
  },
  {
   "cell_type": "code",
   "execution_count": 119,
   "id": "70bb2720-198b-4502-869c-f7ff5cfb9816",
   "metadata": {},
   "outputs": [
    {
     "data": {
      "image/png": "[encoded data removed]",
      "text/plain": [
       "<Figure size 432x288 with 1 Axes>"
      ]
     },
     "metadata": {
      "needs_background": "light"
     },
     "output_type": "display_data"
    }
   ],
   "source": [
    "age_dissatisfied_pv.plot(kind='bar',ylim=(0,.5))\n",
    "plt.ylabel('dissatisfied %')\n",
    "plt.xlabel('age category')\n",
    "plt.title('Employees over 51 more likely to resign due to dissatisfaction',x=.5,y=1.15)\n",
    "plt.show()"
   ]
  },
  {
   "cell_type": "markdown",
   "id": "a78fb381-cac0-4877-bbd6-fb2625e9de6b",
   "metadata": {},
   "source": [
    "We can see that employees over 51 are more likely to resign due to a dissatisfaction over any other age group. We can also come to the conclusion that **employees under 25 years of age are less likely to resign due to dissatifaction than any other group.**"
   ]
  },
  {
   "cell_type": "markdown",
   "id": "b80ec713-bb48-447f-a862-7ab29f56a751",
   "metadata": {},
   "source": [
    "### Conclusion"
   ]
  },
  {
   "cell_type": "markdown",
   "id": "e98cc425-b5cb-437f-8285-f2fb75997b63",
   "metadata": {},
   "source": [
    "Our initial questions were--\n",
    "\n",
    "- Are employees who only worked for the institutes for a short period of time resigning due to some kind of dissatisfaction? \n",
    "- What about employees who have been there longer?\n",
    "\n",
    "- Are younger employees resigning due to some kind of dissatisfaction? \n",
    "- What about older employees?"
   ]
  },
  {
   "cell_type": "markdown",
   "id": "47b6ef0b-8d32-4903-8b54-838300acc723",
   "metadata": {},
   "source": [
    "From our analysis we can reach the following conclusions regarding employment length and resignation due to dissatisfaction:\n",
    "- 33% of employees with 3 or less years who resign, do so due to a 'dissatisfaction'.\n",
    "- 51% and 48% of established and veteran employees, respectively, resign due to a dissatifcation. \n",
    "\n",
    "Roughly half of employees with over 7 years of experience leave the company due to some kind of dissatisfaction. This is significant. "
   ]
  },
  {
   "cell_type": "markdown",
   "id": "226bef5f-696e-4fed-accd-ce11c64adad7",
   "metadata": {},
   "source": [
    "In regards to age: \n",
    "- roughly 1/3 of employees under 25 resign due to a dissatisfaction vs 43% of employees over the age of 51.\n",
    "- employees under the age of 25 are the *least* likely to leave due to dissatisfaction.\n"
   ]
  },
  {
   "cell_type": "markdown",
   "id": "1a921ec4-f515-4130-923a-122d1e911cf5",
   "metadata": {},
   "source": [
    "It appears that with time and age employees are more likely to leave the company due to a dissastifaction. "
   ]
  },
  {
   "cell_type": "code",
   "execution_count": null,
   "id": "93c651c1-f40d-4415-be06-db3c10dd9489",
   "metadata": {},
   "outputs": [],
   "source": []
  }
 ],
 "metadata": {
  "kernelspec": {
   "display_name": "Python 3 (ipykernel)",
   "language": "python",
   "name": "python3"
  },
  "language_info": {
   "codemirror_mode": {
    "name": "ipython",
    "version": 3
   },
   "file_extension": ".py",
   "mimetype": "text/x-python",
   "name": "python",
   "nbconvert_exporter": "python",
   "pygments_lexer": "ipython3",
   "version": "3.9.7"
  }
 },
 "nbformat": 4,
 "nbformat_minor": 5
}
